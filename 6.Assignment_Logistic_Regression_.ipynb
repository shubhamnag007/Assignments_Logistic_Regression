{
 "cells": [
  {
   "cell_type": "code",
   "execution_count": 1,
   "id": "24876902",
   "metadata": {},
   "outputs": [],
   "source": [
    "# Supressing warnings\n",
    "import warnings\n",
    "warnings.filterwarnings('ignore')"
   ]
  },
  {
   "cell_type": "code",
   "execution_count": 2,
   "id": "835da37a",
   "metadata": {},
   "outputs": [],
   "source": [
    "# Importing Libraries\n",
    "import pandas as pd\n",
    "import numpy as np\n",
    "import seaborn as sns\n",
    "import matplotlib.pyplot as plt\n",
    "import scipy.stats as stat\n",
    "import statsmodels.api as smf\n",
    "from sklearn.linear_model import LogisticRegression\n",
    "from statsmodels.stats.outliers_influence import variance_inflation_factor\n",
    "from sklearn.model_selection import KFold , GridSearchCV, train_test_split, StratifiedKFold\n",
    "from sklearn.metrics import confusion_matrix as cm, accuracy_score as ac, classification_report as report,\\\n",
    "roc_curve, roc_auc_score , recall_score , precision_score, f1_score"
   ]
  },
  {
   "cell_type": "code",
   "execution_count": 3,
   "id": "fd80e91e",
   "metadata": {},
   "outputs": [
    {
     "data": {
      "text/html": [
       "<div>\n",
       "<style scoped>\n",
       "    .dataframe tbody tr th:only-of-type {\n",
       "        vertical-align: middle;\n",
       "    }\n",
       "\n",
       "    .dataframe tbody tr th {\n",
       "        vertical-align: top;\n",
       "    }\n",
       "\n",
       "    .dataframe thead th {\n",
       "        text-align: right;\n",
       "    }\n",
       "</style>\n",
       "<table border=\"1\" class=\"dataframe\">\n",
       "  <thead>\n",
       "    <tr style=\"text-align: right;\">\n",
       "      <th></th>\n",
       "      <th>age</th>\n",
       "      <th>job</th>\n",
       "      <th>marital</th>\n",
       "      <th>education</th>\n",
       "      <th>default</th>\n",
       "      <th>balance</th>\n",
       "      <th>housing</th>\n",
       "      <th>loan</th>\n",
       "      <th>contact</th>\n",
       "      <th>day</th>\n",
       "      <th>month</th>\n",
       "      <th>duration</th>\n",
       "      <th>campaign</th>\n",
       "      <th>pdays</th>\n",
       "      <th>previous</th>\n",
       "      <th>poutcome</th>\n",
       "      <th>y</th>\n",
       "    </tr>\n",
       "  </thead>\n",
       "  <tbody>\n",
       "    <tr>\n",
       "      <th>0</th>\n",
       "      <td>58</td>\n",
       "      <td>management</td>\n",
       "      <td>married</td>\n",
       "      <td>tertiary</td>\n",
       "      <td>no</td>\n",
       "      <td>2143</td>\n",
       "      <td>yes</td>\n",
       "      <td>no</td>\n",
       "      <td>unknown</td>\n",
       "      <td>5</td>\n",
       "      <td>may</td>\n",
       "      <td>261</td>\n",
       "      <td>1</td>\n",
       "      <td>-1</td>\n",
       "      <td>0</td>\n",
       "      <td>unknown</td>\n",
       "      <td>no</td>\n",
       "    </tr>\n",
       "    <tr>\n",
       "      <th>1</th>\n",
       "      <td>44</td>\n",
       "      <td>technician</td>\n",
       "      <td>single</td>\n",
       "      <td>secondary</td>\n",
       "      <td>no</td>\n",
       "      <td>29</td>\n",
       "      <td>yes</td>\n",
       "      <td>no</td>\n",
       "      <td>unknown</td>\n",
       "      <td>5</td>\n",
       "      <td>may</td>\n",
       "      <td>151</td>\n",
       "      <td>1</td>\n",
       "      <td>-1</td>\n",
       "      <td>0</td>\n",
       "      <td>unknown</td>\n",
       "      <td>no</td>\n",
       "    </tr>\n",
       "    <tr>\n",
       "      <th>2</th>\n",
       "      <td>33</td>\n",
       "      <td>entrepreneur</td>\n",
       "      <td>married</td>\n",
       "      <td>secondary</td>\n",
       "      <td>no</td>\n",
       "      <td>2</td>\n",
       "      <td>yes</td>\n",
       "      <td>yes</td>\n",
       "      <td>unknown</td>\n",
       "      <td>5</td>\n",
       "      <td>may</td>\n",
       "      <td>76</td>\n",
       "      <td>1</td>\n",
       "      <td>-1</td>\n",
       "      <td>0</td>\n",
       "      <td>unknown</td>\n",
       "      <td>no</td>\n",
       "    </tr>\n",
       "    <tr>\n",
       "      <th>3</th>\n",
       "      <td>47</td>\n",
       "      <td>blue-collar</td>\n",
       "      <td>married</td>\n",
       "      <td>unknown</td>\n",
       "      <td>no</td>\n",
       "      <td>1506</td>\n",
       "      <td>yes</td>\n",
       "      <td>no</td>\n",
       "      <td>unknown</td>\n",
       "      <td>5</td>\n",
       "      <td>may</td>\n",
       "      <td>92</td>\n",
       "      <td>1</td>\n",
       "      <td>-1</td>\n",
       "      <td>0</td>\n",
       "      <td>unknown</td>\n",
       "      <td>no</td>\n",
       "    </tr>\n",
       "    <tr>\n",
       "      <th>4</th>\n",
       "      <td>33</td>\n",
       "      <td>unknown</td>\n",
       "      <td>single</td>\n",
       "      <td>unknown</td>\n",
       "      <td>no</td>\n",
       "      <td>1</td>\n",
       "      <td>no</td>\n",
       "      <td>no</td>\n",
       "      <td>unknown</td>\n",
       "      <td>5</td>\n",
       "      <td>may</td>\n",
       "      <td>198</td>\n",
       "      <td>1</td>\n",
       "      <td>-1</td>\n",
       "      <td>0</td>\n",
       "      <td>unknown</td>\n",
       "      <td>no</td>\n",
       "    </tr>\n",
       "    <tr>\n",
       "      <th>...</th>\n",
       "      <td>...</td>\n",
       "      <td>...</td>\n",
       "      <td>...</td>\n",
       "      <td>...</td>\n",
       "      <td>...</td>\n",
       "      <td>...</td>\n",
       "      <td>...</td>\n",
       "      <td>...</td>\n",
       "      <td>...</td>\n",
       "      <td>...</td>\n",
       "      <td>...</td>\n",
       "      <td>...</td>\n",
       "      <td>...</td>\n",
       "      <td>...</td>\n",
       "      <td>...</td>\n",
       "      <td>...</td>\n",
       "      <td>...</td>\n",
       "    </tr>\n",
       "    <tr>\n",
       "      <th>45206</th>\n",
       "      <td>51</td>\n",
       "      <td>technician</td>\n",
       "      <td>married</td>\n",
       "      <td>tertiary</td>\n",
       "      <td>no</td>\n",
       "      <td>825</td>\n",
       "      <td>no</td>\n",
       "      <td>no</td>\n",
       "      <td>cellular</td>\n",
       "      <td>17</td>\n",
       "      <td>nov</td>\n",
       "      <td>977</td>\n",
       "      <td>3</td>\n",
       "      <td>-1</td>\n",
       "      <td>0</td>\n",
       "      <td>unknown</td>\n",
       "      <td>yes</td>\n",
       "    </tr>\n",
       "    <tr>\n",
       "      <th>45207</th>\n",
       "      <td>71</td>\n",
       "      <td>retired</td>\n",
       "      <td>divorced</td>\n",
       "      <td>primary</td>\n",
       "      <td>no</td>\n",
       "      <td>1729</td>\n",
       "      <td>no</td>\n",
       "      <td>no</td>\n",
       "      <td>cellular</td>\n",
       "      <td>17</td>\n",
       "      <td>nov</td>\n",
       "      <td>456</td>\n",
       "      <td>2</td>\n",
       "      <td>-1</td>\n",
       "      <td>0</td>\n",
       "      <td>unknown</td>\n",
       "      <td>yes</td>\n",
       "    </tr>\n",
       "    <tr>\n",
       "      <th>45208</th>\n",
       "      <td>72</td>\n",
       "      <td>retired</td>\n",
       "      <td>married</td>\n",
       "      <td>secondary</td>\n",
       "      <td>no</td>\n",
       "      <td>5715</td>\n",
       "      <td>no</td>\n",
       "      <td>no</td>\n",
       "      <td>cellular</td>\n",
       "      <td>17</td>\n",
       "      <td>nov</td>\n",
       "      <td>1127</td>\n",
       "      <td>5</td>\n",
       "      <td>184</td>\n",
       "      <td>3</td>\n",
       "      <td>success</td>\n",
       "      <td>yes</td>\n",
       "    </tr>\n",
       "    <tr>\n",
       "      <th>45209</th>\n",
       "      <td>57</td>\n",
       "      <td>blue-collar</td>\n",
       "      <td>married</td>\n",
       "      <td>secondary</td>\n",
       "      <td>no</td>\n",
       "      <td>668</td>\n",
       "      <td>no</td>\n",
       "      <td>no</td>\n",
       "      <td>telephone</td>\n",
       "      <td>17</td>\n",
       "      <td>nov</td>\n",
       "      <td>508</td>\n",
       "      <td>4</td>\n",
       "      <td>-1</td>\n",
       "      <td>0</td>\n",
       "      <td>unknown</td>\n",
       "      <td>no</td>\n",
       "    </tr>\n",
       "    <tr>\n",
       "      <th>45210</th>\n",
       "      <td>37</td>\n",
       "      <td>entrepreneur</td>\n",
       "      <td>married</td>\n",
       "      <td>secondary</td>\n",
       "      <td>no</td>\n",
       "      <td>2971</td>\n",
       "      <td>no</td>\n",
       "      <td>no</td>\n",
       "      <td>cellular</td>\n",
       "      <td>17</td>\n",
       "      <td>nov</td>\n",
       "      <td>361</td>\n",
       "      <td>2</td>\n",
       "      <td>188</td>\n",
       "      <td>11</td>\n",
       "      <td>other</td>\n",
       "      <td>no</td>\n",
       "    </tr>\n",
       "  </tbody>\n",
       "</table>\n",
       "<p>45211 rows × 17 columns</p>\n",
       "</div>"
      ],
      "text/plain": [
       "       age           job   marital  education default  balance housing loan  \\\n",
       "0       58    management   married   tertiary      no     2143     yes   no   \n",
       "1       44    technician    single  secondary      no       29     yes   no   \n",
       "2       33  entrepreneur   married  secondary      no        2     yes  yes   \n",
       "3       47   blue-collar   married    unknown      no     1506     yes   no   \n",
       "4       33       unknown    single    unknown      no        1      no   no   \n",
       "...    ...           ...       ...        ...     ...      ...     ...  ...   \n",
       "45206   51    technician   married   tertiary      no      825      no   no   \n",
       "45207   71       retired  divorced    primary      no     1729      no   no   \n",
       "45208   72       retired   married  secondary      no     5715      no   no   \n",
       "45209   57   blue-collar   married  secondary      no      668      no   no   \n",
       "45210   37  entrepreneur   married  secondary      no     2971      no   no   \n",
       "\n",
       "         contact  day month  duration  campaign  pdays  previous poutcome    y  \n",
       "0        unknown    5   may       261         1     -1         0  unknown   no  \n",
       "1        unknown    5   may       151         1     -1         0  unknown   no  \n",
       "2        unknown    5   may        76         1     -1         0  unknown   no  \n",
       "3        unknown    5   may        92         1     -1         0  unknown   no  \n",
       "4        unknown    5   may       198         1     -1         0  unknown   no  \n",
       "...          ...  ...   ...       ...       ...    ...       ...      ...  ...  \n",
       "45206   cellular   17   nov       977         3     -1         0  unknown  yes  \n",
       "45207   cellular   17   nov       456         2     -1         0  unknown  yes  \n",
       "45208   cellular   17   nov      1127         5    184         3  success  yes  \n",
       "45209  telephone   17   nov       508         4     -1         0  unknown   no  \n",
       "45210   cellular   17   nov       361         2    188        11    other   no  \n",
       "\n",
       "[45211 rows x 17 columns]"
      ]
     },
     "execution_count": 3,
     "metadata": {},
     "output_type": "execute_result"
    }
   ],
   "source": [
    "# Importing Dataset\n",
    "raw_data = pd.read_csv('bank-full.csv', delimiter=';')\n",
    "raw_data"
   ]
  },
  {
   "cell_type": "markdown",
   "id": "88948186",
   "metadata": {},
   "source": [
    "## 2. Data Exploration <a class=\"anchor\" id=\"2\"></a>"
   ]
  },
  {
   "cell_type": "markdown",
   "id": "80217b7b",
   "metadata": {},
   "source": [
    "#### A Binary Classification Task as our classes to predict is 'Yes' or 'No' a Binomial Distribution"
   ]
  },
  {
   "cell_type": "code",
   "execution_count": 4,
   "id": "abb6ab2e",
   "metadata": {},
   "outputs": [
    {
     "name": "stdout",
     "output_type": "stream",
     "text": [
      "(45211, 17)\n"
     ]
    },
    {
     "data": {
      "text/html": [
       "<div>\n",
       "<style scoped>\n",
       "    .dataframe tbody tr th:only-of-type {\n",
       "        vertical-align: middle;\n",
       "    }\n",
       "\n",
       "    .dataframe tbody tr th {\n",
       "        vertical-align: top;\n",
       "    }\n",
       "\n",
       "    .dataframe thead th {\n",
       "        text-align: right;\n",
       "    }\n",
       "</style>\n",
       "<table border=\"1\" class=\"dataframe\">\n",
       "  <thead>\n",
       "    <tr style=\"text-align: right;\">\n",
       "      <th></th>\n",
       "      <th>age</th>\n",
       "      <th>job</th>\n",
       "      <th>marital</th>\n",
       "      <th>education</th>\n",
       "      <th>default</th>\n",
       "      <th>balance</th>\n",
       "      <th>housing</th>\n",
       "      <th>loan</th>\n",
       "      <th>contact</th>\n",
       "      <th>day</th>\n",
       "      <th>month</th>\n",
       "      <th>duration</th>\n",
       "      <th>campaign</th>\n",
       "      <th>pdays</th>\n",
       "      <th>previous</th>\n",
       "      <th>poutcome</th>\n",
       "      <th>y</th>\n",
       "    </tr>\n",
       "  </thead>\n",
       "  <tbody>\n",
       "    <tr>\n",
       "      <th>0</th>\n",
       "      <td>58</td>\n",
       "      <td>management</td>\n",
       "      <td>married</td>\n",
       "      <td>tertiary</td>\n",
       "      <td>no</td>\n",
       "      <td>2143</td>\n",
       "      <td>yes</td>\n",
       "      <td>no</td>\n",
       "      <td>unknown</td>\n",
       "      <td>5</td>\n",
       "      <td>may</td>\n",
       "      <td>261</td>\n",
       "      <td>1</td>\n",
       "      <td>-1</td>\n",
       "      <td>0</td>\n",
       "      <td>unknown</td>\n",
       "      <td>no</td>\n",
       "    </tr>\n",
       "    <tr>\n",
       "      <th>1</th>\n",
       "      <td>44</td>\n",
       "      <td>technician</td>\n",
       "      <td>single</td>\n",
       "      <td>secondary</td>\n",
       "      <td>no</td>\n",
       "      <td>29</td>\n",
       "      <td>yes</td>\n",
       "      <td>no</td>\n",
       "      <td>unknown</td>\n",
       "      <td>5</td>\n",
       "      <td>may</td>\n",
       "      <td>151</td>\n",
       "      <td>1</td>\n",
       "      <td>-1</td>\n",
       "      <td>0</td>\n",
       "      <td>unknown</td>\n",
       "      <td>no</td>\n",
       "    </tr>\n",
       "    <tr>\n",
       "      <th>2</th>\n",
       "      <td>33</td>\n",
       "      <td>entrepreneur</td>\n",
       "      <td>married</td>\n",
       "      <td>secondary</td>\n",
       "      <td>no</td>\n",
       "      <td>2</td>\n",
       "      <td>yes</td>\n",
       "      <td>yes</td>\n",
       "      <td>unknown</td>\n",
       "      <td>5</td>\n",
       "      <td>may</td>\n",
       "      <td>76</td>\n",
       "      <td>1</td>\n",
       "      <td>-1</td>\n",
       "      <td>0</td>\n",
       "      <td>unknown</td>\n",
       "      <td>no</td>\n",
       "    </tr>\n",
       "    <tr>\n",
       "      <th>3</th>\n",
       "      <td>47</td>\n",
       "      <td>blue-collar</td>\n",
       "      <td>married</td>\n",
       "      <td>unknown</td>\n",
       "      <td>no</td>\n",
       "      <td>1506</td>\n",
       "      <td>yes</td>\n",
       "      <td>no</td>\n",
       "      <td>unknown</td>\n",
       "      <td>5</td>\n",
       "      <td>may</td>\n",
       "      <td>92</td>\n",
       "      <td>1</td>\n",
       "      <td>-1</td>\n",
       "      <td>0</td>\n",
       "      <td>unknown</td>\n",
       "      <td>no</td>\n",
       "    </tr>\n",
       "    <tr>\n",
       "      <th>4</th>\n",
       "      <td>33</td>\n",
       "      <td>unknown</td>\n",
       "      <td>single</td>\n",
       "      <td>unknown</td>\n",
       "      <td>no</td>\n",
       "      <td>1</td>\n",
       "      <td>no</td>\n",
       "      <td>no</td>\n",
       "      <td>unknown</td>\n",
       "      <td>5</td>\n",
       "      <td>may</td>\n",
       "      <td>198</td>\n",
       "      <td>1</td>\n",
       "      <td>-1</td>\n",
       "      <td>0</td>\n",
       "      <td>unknown</td>\n",
       "      <td>no</td>\n",
       "    </tr>\n",
       "  </tbody>\n",
       "</table>\n",
       "</div>"
      ],
      "text/plain": [
       "   age           job  marital  education default  balance housing loan  \\\n",
       "0   58    management  married   tertiary      no     2143     yes   no   \n",
       "1   44    technician   single  secondary      no       29     yes   no   \n",
       "2   33  entrepreneur  married  secondary      no        2     yes  yes   \n",
       "3   47   blue-collar  married    unknown      no     1506     yes   no   \n",
       "4   33       unknown   single    unknown      no        1      no   no   \n",
       "\n",
       "   contact  day month  duration  campaign  pdays  previous poutcome   y  \n",
       "0  unknown    5   may       261         1     -1         0  unknown  no  \n",
       "1  unknown    5   may       151         1     -1         0  unknown  no  \n",
       "2  unknown    5   may        76         1     -1         0  unknown  no  \n",
       "3  unknown    5   may        92         1     -1         0  unknown  no  \n",
       "4  unknown    5   may       198         1     -1         0  unknown  no  "
      ]
     },
     "execution_count": 4,
     "metadata": {},
     "output_type": "execute_result"
    }
   ],
   "source": [
    "# print shape of dataset with rows and columns\n",
    "print(raw_data.shape)\n",
    "# print top 5 records\n",
    "raw_data.head()"
   ]
  },
  {
   "cell_type": "markdown",
   "id": "ad4b8c07",
   "metadata": {},
   "source": [
    "#### Descriptive Statistics"
   ]
  },
  {
   "cell_type": "code",
   "execution_count": 5,
   "id": "f40e08dd",
   "metadata": {},
   "outputs": [
    {
     "data": {
      "text/html": [
       "<div>\n",
       "<style scoped>\n",
       "    .dataframe tbody tr th:only-of-type {\n",
       "        vertical-align: middle;\n",
       "    }\n",
       "\n",
       "    .dataframe tbody tr th {\n",
       "        vertical-align: top;\n",
       "    }\n",
       "\n",
       "    .dataframe thead th {\n",
       "        text-align: right;\n",
       "    }\n",
       "</style>\n",
       "<table border=\"1\" class=\"dataframe\">\n",
       "  <thead>\n",
       "    <tr style=\"text-align: right;\">\n",
       "      <th></th>\n",
       "      <th>age</th>\n",
       "      <th>balance</th>\n",
       "      <th>day</th>\n",
       "      <th>duration</th>\n",
       "      <th>campaign</th>\n",
       "      <th>pdays</th>\n",
       "      <th>previous</th>\n",
       "    </tr>\n",
       "  </thead>\n",
       "  <tbody>\n",
       "    <tr>\n",
       "      <th>count</th>\n",
       "      <td>45211.000000</td>\n",
       "      <td>45211.000000</td>\n",
       "      <td>45211.000000</td>\n",
       "      <td>45211.000000</td>\n",
       "      <td>45211.000000</td>\n",
       "      <td>45211.000000</td>\n",
       "      <td>45211.000000</td>\n",
       "    </tr>\n",
       "    <tr>\n",
       "      <th>mean</th>\n",
       "      <td>40.936210</td>\n",
       "      <td>1362.272058</td>\n",
       "      <td>15.806419</td>\n",
       "      <td>258.163080</td>\n",
       "      <td>2.763841</td>\n",
       "      <td>40.197828</td>\n",
       "      <td>0.580323</td>\n",
       "    </tr>\n",
       "    <tr>\n",
       "      <th>std</th>\n",
       "      <td>10.618762</td>\n",
       "      <td>3044.765829</td>\n",
       "      <td>8.322476</td>\n",
       "      <td>257.527812</td>\n",
       "      <td>3.098021</td>\n",
       "      <td>100.128746</td>\n",
       "      <td>2.303441</td>\n",
       "    </tr>\n",
       "    <tr>\n",
       "      <th>min</th>\n",
       "      <td>18.000000</td>\n",
       "      <td>-8019.000000</td>\n",
       "      <td>1.000000</td>\n",
       "      <td>0.000000</td>\n",
       "      <td>1.000000</td>\n",
       "      <td>-1.000000</td>\n",
       "      <td>0.000000</td>\n",
       "    </tr>\n",
       "    <tr>\n",
       "      <th>25%</th>\n",
       "      <td>33.000000</td>\n",
       "      <td>72.000000</td>\n",
       "      <td>8.000000</td>\n",
       "      <td>103.000000</td>\n",
       "      <td>1.000000</td>\n",
       "      <td>-1.000000</td>\n",
       "      <td>0.000000</td>\n",
       "    </tr>\n",
       "    <tr>\n",
       "      <th>50%</th>\n",
       "      <td>39.000000</td>\n",
       "      <td>448.000000</td>\n",
       "      <td>16.000000</td>\n",
       "      <td>180.000000</td>\n",
       "      <td>2.000000</td>\n",
       "      <td>-1.000000</td>\n",
       "      <td>0.000000</td>\n",
       "    </tr>\n",
       "    <tr>\n",
       "      <th>75%</th>\n",
       "      <td>48.000000</td>\n",
       "      <td>1428.000000</td>\n",
       "      <td>21.000000</td>\n",
       "      <td>319.000000</td>\n",
       "      <td>3.000000</td>\n",
       "      <td>-1.000000</td>\n",
       "      <td>0.000000</td>\n",
       "    </tr>\n",
       "    <tr>\n",
       "      <th>max</th>\n",
       "      <td>95.000000</td>\n",
       "      <td>102127.000000</td>\n",
       "      <td>31.000000</td>\n",
       "      <td>4918.000000</td>\n",
       "      <td>63.000000</td>\n",
       "      <td>871.000000</td>\n",
       "      <td>275.000000</td>\n",
       "    </tr>\n",
       "  </tbody>\n",
       "</table>\n",
       "</div>"
      ],
      "text/plain": [
       "                age        balance           day      duration      campaign  \\\n",
       "count  45211.000000   45211.000000  45211.000000  45211.000000  45211.000000   \n",
       "mean      40.936210    1362.272058     15.806419    258.163080      2.763841   \n",
       "std       10.618762    3044.765829      8.322476    257.527812      3.098021   \n",
       "min       18.000000   -8019.000000      1.000000      0.000000      1.000000   \n",
       "25%       33.000000      72.000000      8.000000    103.000000      1.000000   \n",
       "50%       39.000000     448.000000     16.000000    180.000000      2.000000   \n",
       "75%       48.000000    1428.000000     21.000000    319.000000      3.000000   \n",
       "max       95.000000  102127.000000     31.000000   4918.000000     63.000000   \n",
       "\n",
       "              pdays      previous  \n",
       "count  45211.000000  45211.000000  \n",
       "mean      40.197828      0.580323  \n",
       "std      100.128746      2.303441  \n",
       "min       -1.000000      0.000000  \n",
       "25%       -1.000000      0.000000  \n",
       "50%       -1.000000      0.000000  \n",
       "75%       -1.000000      0.000000  \n",
       "max      871.000000    275.000000  "
      ]
     },
     "execution_count": 5,
     "metadata": {},
     "output_type": "execute_result"
    }
   ],
   "source": [
    "raw_data.describe()"
   ]
  },
  {
   "cell_type": "code",
   "execution_count": 6,
   "id": "29dccae0",
   "metadata": {},
   "outputs": [
    {
     "name": "stdout",
     "output_type": "stream",
     "text": [
      "<class 'pandas.core.frame.DataFrame'>\n",
      "RangeIndex: 45211 entries, 0 to 45210\n",
      "Data columns (total 17 columns):\n",
      " #   Column     Non-Null Count  Dtype \n",
      "---  ------     --------------  ----- \n",
      " 0   age        45211 non-null  int64 \n",
      " 1   job        45211 non-null  object\n",
      " 2   marital    45211 non-null  object\n",
      " 3   education  45211 non-null  object\n",
      " 4   default    45211 non-null  object\n",
      " 5   balance    45211 non-null  int64 \n",
      " 6   housing    45211 non-null  object\n",
      " 7   loan       45211 non-null  object\n",
      " 8   contact    45211 non-null  object\n",
      " 9   day        45211 non-null  int64 \n",
      " 10  month      45211 non-null  object\n",
      " 11  duration   45211 non-null  int64 \n",
      " 12  campaign   45211 non-null  int64 \n",
      " 13  pdays      45211 non-null  int64 \n",
      " 14  previous   45211 non-null  int64 \n",
      " 15  poutcome   45211 non-null  object\n",
      " 16  y          45211 non-null  object\n",
      "dtypes: int64(7), object(10)\n",
      "memory usage: 5.9+ MB\n"
     ]
    }
   ],
   "source": [
    "raw_data.info()"
   ]
  },
  {
   "cell_type": "markdown",
   "id": "ffd16312",
   "metadata": {},
   "source": [
    "### 2.1 Missing Values <a class=\"anchor\" id=\"2.1\"></a>"
   ]
  },
  {
   "cell_type": "code",
   "execution_count": 7,
   "id": "35ff1315",
   "metadata": {},
   "outputs": [
    {
     "data": {
      "text/plain": [
       "age          0\n",
       "job          0\n",
       "marital      0\n",
       "education    0\n",
       "default      0\n",
       "balance      0\n",
       "housing      0\n",
       "loan         0\n",
       "contact      0\n",
       "day          0\n",
       "month        0\n",
       "duration     0\n",
       "campaign     0\n",
       "pdays        0\n",
       "previous     0\n",
       "poutcome     0\n",
       "y            0\n",
       "dtype: int64"
      ]
     },
     "execution_count": 7,
     "metadata": {},
     "output_type": "execute_result"
    }
   ],
   "source": [
    "raw_data.isnull().sum()"
   ]
  },
  {
   "cell_type": "markdown",
   "id": "825c162b",
   "metadata": {},
   "source": [
    "So we see that there are no missing values."
   ]
  },
  {
   "cell_type": "markdown",
   "id": "45e44282",
   "metadata": {},
   "source": [
    "### Duplicated Values"
   ]
  },
  {
   "cell_type": "markdown",
   "id": "a7f88fae",
   "metadata": {},
   "source": [
    "#### print the duplicated rows"
   ]
  },
  {
   "cell_type": "code",
   "execution_count": 8,
   "id": "d8ef40a0",
   "metadata": {},
   "outputs": [
    {
     "data": {
      "text/html": [
       "<div>\n",
       "<style scoped>\n",
       "    .dataframe tbody tr th:only-of-type {\n",
       "        vertical-align: middle;\n",
       "    }\n",
       "\n",
       "    .dataframe tbody tr th {\n",
       "        vertical-align: top;\n",
       "    }\n",
       "\n",
       "    .dataframe thead th {\n",
       "        text-align: right;\n",
       "    }\n",
       "</style>\n",
       "<table border=\"1\" class=\"dataframe\">\n",
       "  <thead>\n",
       "    <tr style=\"text-align: right;\">\n",
       "      <th></th>\n",
       "      <th>age</th>\n",
       "      <th>job</th>\n",
       "      <th>marital</th>\n",
       "      <th>education</th>\n",
       "      <th>default</th>\n",
       "      <th>balance</th>\n",
       "      <th>housing</th>\n",
       "      <th>loan</th>\n",
       "      <th>contact</th>\n",
       "      <th>day</th>\n",
       "      <th>month</th>\n",
       "      <th>duration</th>\n",
       "      <th>campaign</th>\n",
       "      <th>pdays</th>\n",
       "      <th>previous</th>\n",
       "      <th>poutcome</th>\n",
       "      <th>y</th>\n",
       "    </tr>\n",
       "  </thead>\n",
       "  <tbody>\n",
       "  </tbody>\n",
       "</table>\n",
       "</div>"
      ],
      "text/plain": [
       "Empty DataFrame\n",
       "Columns: [age, job, marital, education, default, balance, housing, loan, contact, day, month, duration, campaign, pdays, previous, poutcome, y]\n",
       "Index: []"
      ]
     },
     "execution_count": 8,
     "metadata": {},
     "output_type": "execute_result"
    }
   ],
   "source": [
    "raw_data[raw_data.duplicated()]"
   ]
  },
  {
   "cell_type": "code",
   "execution_count": 9,
   "id": "b1ac6124",
   "metadata": {},
   "outputs": [
    {
     "data": {
      "text/plain": [
       "(0, 17)"
      ]
     },
     "execution_count": 9,
     "metadata": {},
     "output_type": "execute_result"
    }
   ],
   "source": [
    "raw_data[raw_data.duplicated()].shape"
   ]
  },
  {
   "cell_type": "markdown",
   "id": "299bed56",
   "metadata": {},
   "source": [
    "### Numerical Variables"
   ]
  },
  {
   "cell_type": "code",
   "execution_count": 10,
   "id": "b41520ef",
   "metadata": {},
   "outputs": [
    {
     "name": "stdout",
     "output_type": "stream",
     "text": [
      "Number of numerical variables: 7\n"
     ]
    },
    {
     "data": {
      "text/html": [
       "<div>\n",
       "<style scoped>\n",
       "    .dataframe tbody tr th:only-of-type {\n",
       "        vertical-align: middle;\n",
       "    }\n",
       "\n",
       "    .dataframe tbody tr th {\n",
       "        vertical-align: top;\n",
       "    }\n",
       "\n",
       "    .dataframe thead th {\n",
       "        text-align: right;\n",
       "    }\n",
       "</style>\n",
       "<table border=\"1\" class=\"dataframe\">\n",
       "  <thead>\n",
       "    <tr style=\"text-align: right;\">\n",
       "      <th></th>\n",
       "      <th>age</th>\n",
       "      <th>balance</th>\n",
       "      <th>day</th>\n",
       "      <th>duration</th>\n",
       "      <th>campaign</th>\n",
       "      <th>pdays</th>\n",
       "      <th>previous</th>\n",
       "    </tr>\n",
       "  </thead>\n",
       "  <tbody>\n",
       "    <tr>\n",
       "      <th>0</th>\n",
       "      <td>58</td>\n",
       "      <td>2143</td>\n",
       "      <td>5</td>\n",
       "      <td>261</td>\n",
       "      <td>1</td>\n",
       "      <td>-1</td>\n",
       "      <td>0</td>\n",
       "    </tr>\n",
       "    <tr>\n",
       "      <th>1</th>\n",
       "      <td>44</td>\n",
       "      <td>29</td>\n",
       "      <td>5</td>\n",
       "      <td>151</td>\n",
       "      <td>1</td>\n",
       "      <td>-1</td>\n",
       "      <td>0</td>\n",
       "    </tr>\n",
       "    <tr>\n",
       "      <th>2</th>\n",
       "      <td>33</td>\n",
       "      <td>2</td>\n",
       "      <td>5</td>\n",
       "      <td>76</td>\n",
       "      <td>1</td>\n",
       "      <td>-1</td>\n",
       "      <td>0</td>\n",
       "    </tr>\n",
       "    <tr>\n",
       "      <th>3</th>\n",
       "      <td>47</td>\n",
       "      <td>1506</td>\n",
       "      <td>5</td>\n",
       "      <td>92</td>\n",
       "      <td>1</td>\n",
       "      <td>-1</td>\n",
       "      <td>0</td>\n",
       "    </tr>\n",
       "    <tr>\n",
       "      <th>4</th>\n",
       "      <td>33</td>\n",
       "      <td>1</td>\n",
       "      <td>5</td>\n",
       "      <td>198</td>\n",
       "      <td>1</td>\n",
       "      <td>-1</td>\n",
       "      <td>0</td>\n",
       "    </tr>\n",
       "  </tbody>\n",
       "</table>\n",
       "</div>"
      ],
      "text/plain": [
       "   age  balance  day  duration  campaign  pdays  previous\n",
       "0   58     2143    5       261         1     -1         0\n",
       "1   44       29    5       151         1     -1         0\n",
       "2   33        2    5        76         1     -1         0\n",
       "3   47     1506    5        92         1     -1         0\n",
       "4   33        1    5       198         1     -1         0"
      ]
     },
     "execution_count": 10,
     "metadata": {},
     "output_type": "execute_result"
    }
   ],
   "source": [
    "# List of Numerical Variables\n",
    "numerical_features=[feature for feature in raw_data.columns if raw_data[feature].dtypes != 'O']\n",
    "\n",
    "print('Number of numerical variables:', len(numerical_features))\n",
    "\n",
    "# Visualize the numerical variables\n",
    "raw_data[numerical_features].head()"
   ]
  },
  {
   "cell_type": "markdown",
   "id": "d37d52ae",
   "metadata": {},
   "source": [
    "#### Discrete Feature\n",
    "+ Numerical variables are usually of 2 types \n",
    "+ Continuous variable and discrete variable"
   ]
  },
  {
   "cell_type": "code",
   "execution_count": 11,
   "id": "aef9f846",
   "metadata": {},
   "outputs": [
    {
     "name": "stdout",
     "output_type": "stream",
     "text": [
      "Discrete Variables Count: 0\n"
     ]
    }
   ],
   "source": [
    "discrete_feature=[feature for feature in numerical_features if len(raw_data[feature].unique())<25 and feature not in year_feature]\n",
    "print('Discrete Variables Count: {}'.format(len(discrete_feature)))"
   ]
  },
  {
   "cell_type": "markdown",
   "id": "1f1efec0",
   "metadata": {},
   "source": [
    "#### Continuous Variable"
   ]
  },
  {
   "cell_type": "code",
   "execution_count": 12,
   "id": "0ba6f1b8",
   "metadata": {},
   "outputs": [
    {
     "name": "stdout",
     "output_type": "stream",
     "text": [
      "Continuous Feature Count 7\n"
     ]
    }
   ],
   "source": [
    "continuous_feature=[feature for feature in numerical_features if feature not in discrete_feature]\n",
    "print('Continuous Feature Count {}'.format(len(continuous_feature)))"
   ]
  },
  {
   "cell_type": "code",
   "execution_count": 13,
   "id": "0d43df9e",
   "metadata": {},
   "outputs": [
    {
     "data": {
      "text/html": [
       "<div>\n",
       "<style scoped>\n",
       "    .dataframe tbody tr th:only-of-type {\n",
       "        vertical-align: middle;\n",
       "    }\n",
       "\n",
       "    .dataframe tbody tr th {\n",
       "        vertical-align: top;\n",
       "    }\n",
       "\n",
       "    .dataframe thead th {\n",
       "        text-align: right;\n",
       "    }\n",
       "</style>\n",
       "<table border=\"1\" class=\"dataframe\">\n",
       "  <thead>\n",
       "    <tr style=\"text-align: right;\">\n",
       "      <th></th>\n",
       "      <th>age</th>\n",
       "      <th>balance</th>\n",
       "      <th>day</th>\n",
       "      <th>duration</th>\n",
       "      <th>campaign</th>\n",
       "      <th>pdays</th>\n",
       "      <th>previous</th>\n",
       "    </tr>\n",
       "  </thead>\n",
       "  <tbody>\n",
       "    <tr>\n",
       "      <th>age</th>\n",
       "      <td>1.000000</td>\n",
       "      <td>0.097783</td>\n",
       "      <td>-0.009120</td>\n",
       "      <td>-0.004648</td>\n",
       "      <td>0.004760</td>\n",
       "      <td>-0.023758</td>\n",
       "      <td>0.001288</td>\n",
       "    </tr>\n",
       "    <tr>\n",
       "      <th>balance</th>\n",
       "      <td>0.097783</td>\n",
       "      <td>1.000000</td>\n",
       "      <td>0.004503</td>\n",
       "      <td>0.021560</td>\n",
       "      <td>-0.014578</td>\n",
       "      <td>0.003435</td>\n",
       "      <td>0.016674</td>\n",
       "    </tr>\n",
       "    <tr>\n",
       "      <th>day</th>\n",
       "      <td>-0.009120</td>\n",
       "      <td>0.004503</td>\n",
       "      <td>1.000000</td>\n",
       "      <td>-0.030206</td>\n",
       "      <td>0.162490</td>\n",
       "      <td>-0.093044</td>\n",
       "      <td>-0.051710</td>\n",
       "    </tr>\n",
       "    <tr>\n",
       "      <th>duration</th>\n",
       "      <td>-0.004648</td>\n",
       "      <td>0.021560</td>\n",
       "      <td>-0.030206</td>\n",
       "      <td>1.000000</td>\n",
       "      <td>-0.084570</td>\n",
       "      <td>-0.001565</td>\n",
       "      <td>0.001203</td>\n",
       "    </tr>\n",
       "    <tr>\n",
       "      <th>campaign</th>\n",
       "      <td>0.004760</td>\n",
       "      <td>-0.014578</td>\n",
       "      <td>0.162490</td>\n",
       "      <td>-0.084570</td>\n",
       "      <td>1.000000</td>\n",
       "      <td>-0.088628</td>\n",
       "      <td>-0.032855</td>\n",
       "    </tr>\n",
       "    <tr>\n",
       "      <th>pdays</th>\n",
       "      <td>-0.023758</td>\n",
       "      <td>0.003435</td>\n",
       "      <td>-0.093044</td>\n",
       "      <td>-0.001565</td>\n",
       "      <td>-0.088628</td>\n",
       "      <td>1.000000</td>\n",
       "      <td>0.454820</td>\n",
       "    </tr>\n",
       "    <tr>\n",
       "      <th>previous</th>\n",
       "      <td>0.001288</td>\n",
       "      <td>0.016674</td>\n",
       "      <td>-0.051710</td>\n",
       "      <td>0.001203</td>\n",
       "      <td>-0.032855</td>\n",
       "      <td>0.454820</td>\n",
       "      <td>1.000000</td>\n",
       "    </tr>\n",
       "  </tbody>\n",
       "</table>\n",
       "</div>"
      ],
      "text/plain": [
       "               age   balance       day  duration  campaign     pdays  previous\n",
       "age       1.000000  0.097783 -0.009120 -0.004648  0.004760 -0.023758  0.001288\n",
       "balance   0.097783  1.000000  0.004503  0.021560 -0.014578  0.003435  0.016674\n",
       "day      -0.009120  0.004503  1.000000 -0.030206  0.162490 -0.093044 -0.051710\n",
       "duration -0.004648  0.021560 -0.030206  1.000000 -0.084570 -0.001565  0.001203\n",
       "campaign  0.004760 -0.014578  0.162490 -0.084570  1.000000 -0.088628 -0.032855\n",
       "pdays    -0.023758  0.003435 -0.093044 -0.001565 -0.088628  1.000000  0.454820\n",
       "previous  0.001288  0.016674 -0.051710  0.001203 -0.032855  0.454820  1.000000"
      ]
     },
     "execution_count": 13,
     "metadata": {},
     "output_type": "execute_result"
    }
   ],
   "source": [
    "raw_data.corr()"
   ]
  },
  {
   "cell_type": "markdown",
   "id": "c054e729",
   "metadata": {},
   "source": [
    "## 3. Exploratory Data Analysis<a class=\"anchor\" id=\"3\"></a>"
   ]
  },
  {
   "cell_type": "markdown",
   "id": "ba1ee6d4",
   "metadata": {},
   "source": [
    "To obtain a better understanding of the dataset, the distribution of key variables and the relationships among them were plotted."
   ]
  },
  {
   "cell_type": "code",
   "execution_count": 14,
   "id": "783762de",
   "metadata": {
    "scrolled": false
   },
   "outputs": [
    {
     "data": {
      "text/plain": [
       "(array([0.5, 1.5, 2.5, 3.5, 4.5, 5.5, 6.5]),\n",
       " [Text(0.5, 0, 'age'),\n",
       "  Text(1.5, 0, 'balance'),\n",
       "  Text(2.5, 0, 'day'),\n",
       "  Text(3.5, 0, 'duration'),\n",
       "  Text(4.5, 0, 'campaign'),\n",
       "  Text(5.5, 0, 'pdays'),\n",
       "  Text(6.5, 0, 'previous')])"
      ]
     },
     "execution_count": 14,
     "metadata": {},
     "output_type": "execute_result"
    },
    {
     "data": {
      "image/png": "[encoded data removed]",
      "text/plain": [
       "<Figure size 1296x432 with 2 Axes>"
      ]
     },
     "metadata": {
      "needs_background": "light"
     },
     "output_type": "display_data"
    }
   ],
   "source": [
    "fig= plt.figure(figsize=(18, 6))\n",
    "sns.heatmap(raw_data.corr(), annot=True);\n",
    "plt.xticks(rotation=45)"
   ]
  },
  {
   "cell_type": "markdown",
   "id": "19a4b66d",
   "metadata": {},
   "source": [
    "### Lets analyze the continuous values by creating histograms to understand the distribution of the numerical features"
   ]
  },
  {
   "cell_type": "code",
   "execution_count": 15,
   "id": "1fb09b54",
   "metadata": {},
   "outputs": [
    {
     "data": {
      "image/png": "[encoded data removed]",
      "text/plain": [
       "<Figure size 432x288 with 1 Axes>"
      ]
     },
     "metadata": {
      "needs_background": "light"
     },
     "output_type": "display_data"
    },
    {
     "data": {
      "image/png": "[encoded data removed]",
      "text/plain": [
       "<Figure size 432x288 with 1 Axes>"
      ]
     },
     "metadata": {
      "needs_background": "light"
     },
     "output_type": "display_data"
    },
    {
     "data": {
      "image/png": "[encoded data removed]",
      "text/plain": [
       "<Figure size 432x288 with 1 Axes>"
      ]
     },
     "metadata": {
      "needs_background": "light"
     },
     "output_type": "display_data"
    },
    {
     "data": {
      "image/png": "[encoded data removed]",
      "text/plain": [
       "<Figure size 432x288 with 1 Axes>"
      ]
     },
     "metadata": {
      "needs_background": "light"
     },
     "output_type": "display_data"
    },
    {
     "data": {
      "image/png": "[encoded data removed]",
      "text/plain": [
       "<Figure size 432x288 with 1 Axes>"
      ]
     },
     "metadata": {
      "needs_background": "light"
     },
     "output_type": "display_data"
    },
    {
     "data": {
      "image/png": "[encoded data removed]",
      "text/plain": [
       "<Figure size 432x288 with 1 Axes>"
      ]
     },
     "metadata": {
      "needs_background": "light"
     },
     "output_type": "display_data"
    },
    {
     "data": {
      "image/png": "[encoded data removed]",
      "text/plain": [
       "<Figure size 432x288 with 1 Axes>"
      ]
     },
     "metadata": {
      "needs_background": "light"
     },
     "output_type": "display_data"
    }
   ],
   "source": [
    "for feature in continuous_feature:\n",
    "    data=raw_data.copy()\n",
    "    data[feature].hist(bins=25)\n",
    "    plt.ylabel('Count')\n",
    "    plt.title(feature)\n",
    "    plt.show()"
   ]
  },
  {
   "cell_type": "markdown",
   "id": "c89e6dc9",
   "metadata": {},
   "source": [
    "## Log transformation\n",
    "+ We will be using logarithmic transformation"
   ]
  },
  {
   "cell_type": "code",
   "execution_count": 16,
   "id": "477649b6",
   "metadata": {
    "scrolled": true
   },
   "outputs": [
    {
     "data": {
      "image/png": "[encoded data removed]",
      "text/plain": [
       "<Figure size 432x288 with 1 Axes>"
      ]
     },
     "metadata": {
      "needs_background": "light"
     },
     "output_type": "display_data"
    },
    {
     "data": {
      "image/png": "[encoded data removed]",
      "text/plain": [
       "<Figure size 432x288 with 1 Axes>"
      ]
     },
     "metadata": {
      "needs_background": "light"
     },
     "output_type": "display_data"
    },
    {
     "data": {
      "image/png": "[encoded data removed]",
      "text/plain": [
       "<Figure size 432x288 with 1 Axes>"
      ]
     },
     "metadata": {
      "needs_background": "light"
     },
     "output_type": "display_data"
    },
    {
     "data": {
      "image/png": "[encoded data removed]",
      "text/plain": [
       "<Figure size 432x288 with 1 Axes>"
      ]
     },
     "metadata": {
      "needs_background": "light"
     },
     "output_type": "display_data"
    }
   ],
   "source": [
    "for feature in continuous_feature:\n",
    "    data=raw_data.copy()\n",
    "    if 0 in data[feature].unique():\n",
    "        pass\n",
    "    else:\n",
    "        data[feature]=np.log(data[feature])\n",
    "        data[feature].hist(bins=25)\n",
    "        plt.ylabel('Count')\n",
    "        plt.title(feature)\n",
    "        plt.show()"
   ]
  },
  {
   "cell_type": "markdown",
   "id": "1c2688cb",
   "metadata": {},
   "source": [
    "### 3.1 Outliers Detection<a class=\"anchor\" id=\"3.1\"></a>"
   ]
  },
  {
   "cell_type": "code",
   "execution_count": 17,
   "id": "98ba843a",
   "metadata": {},
   "outputs": [
    {
     "data": {
      "image/png": "[encoded data removed]",
      "text/plain": [
       "<Figure size 1008x864 with 7 Axes>"
      ]
     },
     "metadata": {
      "needs_background": "light"
     },
     "output_type": "display_data"
    }
   ],
   "source": [
    "ot=raw_data.copy() \n",
    "fig, axes=plt.subplots(7,1,figsize=(14,12),sharex=False,sharey=False)\n",
    "sns.boxplot(x='age',data=ot,palette='crest',ax=axes[0])\n",
    "sns.boxplot(x='balance',data=ot,palette='crest',ax=axes[1])\n",
    "sns.boxplot(x='day',data=ot,palette='crest',ax=axes[2])\n",
    "sns.boxplot(x='duration',data=ot,palette='crest',ax=axes[3])\n",
    "sns.boxplot(x='campaign',data=ot,palette='crest',ax=axes[4])\n",
    "sns.boxplot(x='pdays',data=ot,palette='crest',ax=axes[5])\n",
    "sns.boxplot(x='previous',data=ot,palette='crest',ax=axes[6])\n",
    "plt.tight_layout(pad=2.0)"
   ]
  },
  {
   "cell_type": "markdown",
   "id": "66e7fb5c",
   "metadata": {},
   "source": [
    "#### There are lot of outliers present in the dataframe but we can't drop them because they are present in a very large quantity and can be important for model building"
   ]
  },
  {
   "cell_type": "markdown",
   "id": "b51b7a88",
   "metadata": {},
   "source": [
    "#### After Log-Transformation"
   ]
  },
  {
   "cell_type": "code",
   "execution_count": 18,
   "id": "e20a222d",
   "metadata": {
    "scrolled": true
   },
   "outputs": [
    {
     "data": {
      "image/png": "[encoded data removed]",
      "text/plain": [
       "<Figure size 432x288 with 1 Axes>"
      ]
     },
     "metadata": {
      "needs_background": "light"
     },
     "output_type": "display_data"
    },
    {
     "data": {
      "image/png": "[encoded data removed]",
      "text/plain": [
       "<Figure size 432x288 with 1 Axes>"
      ]
     },
     "metadata": {
      "needs_background": "light"
     },
     "output_type": "display_data"
    },
    {
     "data": {
      "image/png": "[encoded data removed]",
      "text/plain": [
       "<Figure size 432x288 with 1 Axes>"
      ]
     },
     "metadata": {
      "needs_background": "light"
     },
     "output_type": "display_data"
    },
    {
     "data": {
      "image/png": "[encoded data removed]",
      "text/plain": [
       "<Figure size 432x288 with 1 Axes>"
      ]
     },
     "metadata": {
      "needs_background": "light"
     },
     "output_type": "display_data"
    },
    {
     "data": {
      "image/png": "[encoded data removed]",
      "text/plain": [
       "<Figure size 432x288 with 1 Axes>"
      ]
     },
     "metadata": {
      "needs_background": "light"
     },
     "output_type": "display_data"
    },
    {
     "data": {
      "image/png": "[encoded data removed]",
      "text/plain": [
       "<Figure size 432x288 with 1 Axes>"
      ]
     },
     "metadata": {
      "needs_background": "light"
     },
     "output_type": "display_data"
    },
    {
     "data": {
      "image/png": "[encoded data removed]",
      "text/plain": [
       "<Figure size 432x288 with 1 Axes>"
      ]
     },
     "metadata": {
      "needs_background": "light"
     },
     "output_type": "display_data"
    }
   ],
   "source": [
    "for feature in continuous_feature:\n",
    "    data=raw_data.copy()\n",
    "    data[feature]=np.log(data[feature])\n",
    "    data.boxplot(column=feature)\n",
    "    plt.ylabel(feature)\n",
    "    plt.title(feature)\n",
    "    plt.show()"
   ]
  },
  {
   "cell_type": "markdown",
   "id": "1ee0327a",
   "metadata": {},
   "source": [
    "### 3.2 Visualize the distribution of 'age' and 'balance'<a class=\"anchor\" id=\"3.2\"></a>"
   ]
  },
  {
   "cell_type": "code",
   "execution_count": 19,
   "id": "ba643ae2",
   "metadata": {},
   "outputs": [
    {
     "data": {
      "image/png": "[encoded data removed]",
      "text/plain": [
       "<Figure size 720x432 with 2 Axes>"
      ]
     },
     "metadata": {
      "needs_background": "light"
     },
     "output_type": "display_data"
    }
   ],
   "source": [
    "dist_age_balance = plt.figure(figsize = (10,6))\n",
    "\n",
    "ra1 = dist_age_balance.add_subplot(1,2,1) \n",
    "ra2 = dist_age_balance.add_subplot(1,2,2)\n",
    "\n",
    "ra1.hist(raw_data['age'])\n",
    "ra1.set_title('The Distribution of Age')\n",
    "\n",
    "ra2.hist(raw_data['balance'], color = 'skyblue')\n",
    "ra2.set_title('The Distribution of Balance')\n",
    "\n",
    "plt.tight_layout() \n",
    "plt.show()"
   ]
  },
  {
   "cell_type": "code",
   "execution_count": 20,
   "id": "70c8f7cc",
   "metadata": {},
   "outputs": [
    {
     "data": {
      "text/html": [
       "<div>\n",
       "<style scoped>\n",
       "    .dataframe tbody tr th:only-of-type {\n",
       "        vertical-align: middle;\n",
       "    }\n",
       "\n",
       "    .dataframe tbody tr th {\n",
       "        vertical-align: top;\n",
       "    }\n",
       "\n",
       "    .dataframe thead th {\n",
       "        text-align: right;\n",
       "    }\n",
       "</style>\n",
       "<table border=\"1\" class=\"dataframe\">\n",
       "  <thead>\n",
       "    <tr style=\"text-align: right;\">\n",
       "      <th></th>\n",
       "      <th>age</th>\n",
       "      <th>balance</th>\n",
       "    </tr>\n",
       "  </thead>\n",
       "  <tbody>\n",
       "    <tr>\n",
       "      <th>count</th>\n",
       "      <td>45211.000000</td>\n",
       "      <td>45211.000000</td>\n",
       "    </tr>\n",
       "    <tr>\n",
       "      <th>mean</th>\n",
       "      <td>40.936210</td>\n",
       "      <td>1362.272058</td>\n",
       "    </tr>\n",
       "    <tr>\n",
       "      <th>std</th>\n",
       "      <td>10.618762</td>\n",
       "      <td>3044.765829</td>\n",
       "    </tr>\n",
       "    <tr>\n",
       "      <th>min</th>\n",
       "      <td>18.000000</td>\n",
       "      <td>-8019.000000</td>\n",
       "    </tr>\n",
       "    <tr>\n",
       "      <th>25%</th>\n",
       "      <td>33.000000</td>\n",
       "      <td>72.000000</td>\n",
       "    </tr>\n",
       "    <tr>\n",
       "      <th>50%</th>\n",
       "      <td>39.000000</td>\n",
       "      <td>448.000000</td>\n",
       "    </tr>\n",
       "    <tr>\n",
       "      <th>75%</th>\n",
       "      <td>48.000000</td>\n",
       "      <td>1428.000000</td>\n",
       "    </tr>\n",
       "    <tr>\n",
       "      <th>max</th>\n",
       "      <td>95.000000</td>\n",
       "      <td>102127.000000</td>\n",
       "    </tr>\n",
       "  </tbody>\n",
       "</table>\n",
       "</div>"
      ],
      "text/plain": [
       "                age        balance\n",
       "count  45211.000000   45211.000000\n",
       "mean      40.936210    1362.272058\n",
       "std       10.618762    3044.765829\n",
       "min       18.000000   -8019.000000\n",
       "25%       33.000000      72.000000\n",
       "50%       39.000000     448.000000\n",
       "75%       48.000000    1428.000000\n",
       "max       95.000000  102127.000000"
      ]
     },
     "execution_count": 20,
     "metadata": {},
     "output_type": "execute_result"
    }
   ],
   "source": [
    "raw_data[['age','balance']].describe()"
   ]
  },
  {
   "cell_type": "markdown",
   "id": "7fcd8e6b",
   "metadata": {},
   "source": [
    "### 3.3 Visualize the relationship between 'duration' & 'campaign' <a class=\"anchor\" id=\"3.3\"></a>"
   ]
  },
  {
   "cell_type": "code",
   "execution_count": 21,
   "id": "16b94e0e",
   "metadata": {},
   "outputs": [
    {
     "data": {
      "image/png": "[encoded data removed]",
      "text/plain": [
       "<Figure size 576x576 with 2 Axes>"
      ]
     },
     "metadata": {
      "needs_background": "light"
     },
     "output_type": "display_data"
    }
   ],
   "source": [
    "# Change the unit of 'duration' from seconds to minutes\n",
    "df1 = raw_data.copy()\n",
    "df1['duration'] = df1['duration'].apply(lambda n:n/60).round(2)\n",
    "df1[['duration','campaign']].plot(kind = 'box', \n",
    "                                                      figsize = (8,8),\n",
    "                                                      subplots = True, layout = (1,2),\n",
    "                                                      sharex = False, sharey = False,\n",
    "                                                      title='The Distribution of Duration and Campaign')\n",
    "plt.show()"
   ]
  },
  {
   "cell_type": "code",
   "execution_count": 22,
   "id": "7fa98e85",
   "metadata": {},
   "outputs": [
    {
     "data": {
      "text/html": [
       "<div>\n",
       "<style scoped>\n",
       "    .dataframe tbody tr th:only-of-type {\n",
       "        vertical-align: middle;\n",
       "    }\n",
       "\n",
       "    .dataframe tbody tr th {\n",
       "        vertical-align: top;\n",
       "    }\n",
       "\n",
       "    .dataframe thead th {\n",
       "        text-align: right;\n",
       "    }\n",
       "</style>\n",
       "<table border=\"1\" class=\"dataframe\">\n",
       "  <thead>\n",
       "    <tr style=\"text-align: right;\">\n",
       "      <th></th>\n",
       "      <th>duration</th>\n",
       "      <th>campaign</th>\n",
       "    </tr>\n",
       "  </thead>\n",
       "  <tbody>\n",
       "    <tr>\n",
       "      <th>count</th>\n",
       "      <td>45211.000000</td>\n",
       "      <td>45211.000000</td>\n",
       "    </tr>\n",
       "    <tr>\n",
       "      <th>mean</th>\n",
       "      <td>4.302729</td>\n",
       "      <td>2.763841</td>\n",
       "    </tr>\n",
       "    <tr>\n",
       "      <th>std</th>\n",
       "      <td>4.292132</td>\n",
       "      <td>3.098021</td>\n",
       "    </tr>\n",
       "    <tr>\n",
       "      <th>min</th>\n",
       "      <td>0.000000</td>\n",
       "      <td>1.000000</td>\n",
       "    </tr>\n",
       "    <tr>\n",
       "      <th>25%</th>\n",
       "      <td>1.720000</td>\n",
       "      <td>1.000000</td>\n",
       "    </tr>\n",
       "    <tr>\n",
       "      <th>50%</th>\n",
       "      <td>3.000000</td>\n",
       "      <td>2.000000</td>\n",
       "    </tr>\n",
       "    <tr>\n",
       "      <th>75%</th>\n",
       "      <td>5.320000</td>\n",
       "      <td>3.000000</td>\n",
       "    </tr>\n",
       "    <tr>\n",
       "      <th>max</th>\n",
       "      <td>81.970000</td>\n",
       "      <td>63.000000</td>\n",
       "    </tr>\n",
       "  </tbody>\n",
       "</table>\n",
       "</div>"
      ],
      "text/plain": [
       "           duration      campaign\n",
       "count  45211.000000  45211.000000\n",
       "mean       4.302729      2.763841\n",
       "std        4.292132      3.098021\n",
       "min        0.000000      1.000000\n",
       "25%        1.720000      1.000000\n",
       "50%        3.000000      2.000000\n",
       "75%        5.320000      3.000000\n",
       "max       81.970000     63.000000"
      ]
     },
     "execution_count": 22,
     "metadata": {},
     "output_type": "execute_result"
    }
   ],
   "source": [
    "df1[['duration','campaign']].describe()"
   ]
  },
  {
   "cell_type": "markdown",
   "id": "4570210a",
   "metadata": {},
   "source": [
    "### 3.4 Now let's look how numerical columns affect term deposit subscription. <a class=\"anchor\" id=\"3.4\"></a>"
   ]
  },
  {
   "cell_type": "code",
   "execution_count": 23,
   "id": "9358ec85",
   "metadata": {},
   "outputs": [
    {
     "data": {
      "text/html": [
       "<div>\n",
       "<style scoped>\n",
       "    .dataframe tbody tr th:only-of-type {\n",
       "        vertical-align: middle;\n",
       "    }\n",
       "\n",
       "    .dataframe tbody tr th {\n",
       "        vertical-align: top;\n",
       "    }\n",
       "\n",
       "    .dataframe thead th {\n",
       "        text-align: right;\n",
       "    }\n",
       "</style>\n",
       "<table border=\"1\" class=\"dataframe\">\n",
       "  <thead>\n",
       "    <tr style=\"text-align: right;\">\n",
       "      <th></th>\n",
       "      <th>balance_yes</th>\n",
       "      <th>balance_no</th>\n",
       "    </tr>\n",
       "  </thead>\n",
       "  <tbody>\n",
       "    <tr>\n",
       "      <th>count</th>\n",
       "      <td>5289.000000</td>\n",
       "      <td>39922.000000</td>\n",
       "    </tr>\n",
       "    <tr>\n",
       "      <th>mean</th>\n",
       "      <td>1804.267915</td>\n",
       "      <td>1303.714969</td>\n",
       "    </tr>\n",
       "    <tr>\n",
       "      <th>std</th>\n",
       "      <td>3501.104777</td>\n",
       "      <td>2974.195473</td>\n",
       "    </tr>\n",
       "    <tr>\n",
       "      <th>min</th>\n",
       "      <td>-3058.000000</td>\n",
       "      <td>-8019.000000</td>\n",
       "    </tr>\n",
       "    <tr>\n",
       "      <th>25%</th>\n",
       "      <td>210.000000</td>\n",
       "      <td>58.000000</td>\n",
       "    </tr>\n",
       "    <tr>\n",
       "      <th>50%</th>\n",
       "      <td>733.000000</td>\n",
       "      <td>417.000000</td>\n",
       "    </tr>\n",
       "    <tr>\n",
       "      <th>75%</th>\n",
       "      <td>2159.000000</td>\n",
       "      <td>1345.000000</td>\n",
       "    </tr>\n",
       "    <tr>\n",
       "      <th>max</th>\n",
       "      <td>81204.000000</td>\n",
       "      <td>102127.000000</td>\n",
       "    </tr>\n",
       "  </tbody>\n",
       "</table>\n",
       "</div>"
      ],
      "text/plain": [
       "        balance_yes     balance_no\n",
       "count   5289.000000   39922.000000\n",
       "mean    1804.267915    1303.714969\n",
       "std     3501.104777    2974.195473\n",
       "min    -3058.000000   -8019.000000\n",
       "25%      210.000000      58.000000\n",
       "50%      733.000000     417.000000\n",
       "75%     2159.000000    1345.000000\n",
       "max    81204.000000  102127.000000"
      ]
     },
     "execution_count": 23,
     "metadata": {},
     "output_type": "execute_result"
    }
   ],
   "source": [
    "#balance and deposit\n",
    "\n",
    "b_df = pd.DataFrame()\n",
    "b_df['balance_yes'] = (raw_data[raw_data['y'] == 'yes'][['y','balance']].describe())['balance']\n",
    "b_df['balance_no'] = (raw_data[raw_data['y'] == 'no'][['y','balance']].describe())['balance']\n",
    "\n",
    "b_df"
   ]
  },
  {
   "cell_type": "code",
   "execution_count": 24,
   "id": "275ed836",
   "metadata": {},
   "outputs": [
    {
     "data": {
      "text/plain": [
       "<AxesSubplot:title={'center':'Balance and deposit statistics'}>"
      ]
     },
     "execution_count": 24,
     "metadata": {},
     "output_type": "execute_result"
    },
    {
     "data": {
      "image/png": "[encoded data removed]",
      "text/plain": [
       "<Figure size 432x288 with 1 Axes>"
      ]
     },
     "metadata": {
      "needs_background": "light"
     },
     "output_type": "display_data"
    }
   ],
   "source": [
    "b_df.drop(['count', '25%', '50%', '75%']).plot.bar(title = 'Balance and deposit statistics')"
   ]
  },
  {
   "cell_type": "code",
   "execution_count": 25,
   "id": "33e681cf",
   "metadata": {},
   "outputs": [
    {
     "data": {
      "text/html": [
       "<div>\n",
       "<style scoped>\n",
       "    .dataframe tbody tr th:only-of-type {\n",
       "        vertical-align: middle;\n",
       "    }\n",
       "\n",
       "    .dataframe tbody tr th {\n",
       "        vertical-align: top;\n",
       "    }\n",
       "\n",
       "    .dataframe thead th {\n",
       "        text-align: right;\n",
       "    }\n",
       "</style>\n",
       "<table border=\"1\" class=\"dataframe\">\n",
       "  <thead>\n",
       "    <tr style=\"text-align: right;\">\n",
       "      <th></th>\n",
       "      <th>age_yes</th>\n",
       "      <th>age_no</th>\n",
       "    </tr>\n",
       "  </thead>\n",
       "  <tbody>\n",
       "    <tr>\n",
       "      <th>count</th>\n",
       "      <td>5289.000000</td>\n",
       "      <td>39922.000000</td>\n",
       "    </tr>\n",
       "    <tr>\n",
       "      <th>mean</th>\n",
       "      <td>41.670070</td>\n",
       "      <td>40.838986</td>\n",
       "    </tr>\n",
       "    <tr>\n",
       "      <th>std</th>\n",
       "      <td>13.497781</td>\n",
       "      <td>10.172662</td>\n",
       "    </tr>\n",
       "    <tr>\n",
       "      <th>min</th>\n",
       "      <td>18.000000</td>\n",
       "      <td>18.000000</td>\n",
       "    </tr>\n",
       "    <tr>\n",
       "      <th>25%</th>\n",
       "      <td>31.000000</td>\n",
       "      <td>33.000000</td>\n",
       "    </tr>\n",
       "    <tr>\n",
       "      <th>50%</th>\n",
       "      <td>38.000000</td>\n",
       "      <td>39.000000</td>\n",
       "    </tr>\n",
       "    <tr>\n",
       "      <th>75%</th>\n",
       "      <td>50.000000</td>\n",
       "      <td>48.000000</td>\n",
       "    </tr>\n",
       "    <tr>\n",
       "      <th>max</th>\n",
       "      <td>95.000000</td>\n",
       "      <td>95.000000</td>\n",
       "    </tr>\n",
       "  </tbody>\n",
       "</table>\n",
       "</div>"
      ],
      "text/plain": [
       "           age_yes        age_no\n",
       "count  5289.000000  39922.000000\n",
       "mean     41.670070     40.838986\n",
       "std      13.497781     10.172662\n",
       "min      18.000000     18.000000\n",
       "25%      31.000000     33.000000\n",
       "50%      38.000000     39.000000\n",
       "75%      50.000000     48.000000\n",
       "max      95.000000     95.000000"
      ]
     },
     "execution_count": 25,
     "metadata": {},
     "output_type": "execute_result"
    }
   ],
   "source": [
    "#age and deposit\n",
    "\n",
    "a_df = pd.DataFrame()\n",
    "a_df['age_yes'] = (raw_data[raw_data['y'] == 'yes'][['y','age']].describe())['age']\n",
    "a_df['age_no'] = (raw_data[raw_data['y'] == 'no'][['y','age']].describe())['age']\n",
    "\n",
    "a_df"
   ]
  },
  {
   "cell_type": "code",
   "execution_count": 26,
   "id": "17f3b272",
   "metadata": {},
   "outputs": [
    {
     "data": {
      "text/plain": [
       "<AxesSubplot:title={'center':'Age and deposit statistics'}>"
      ]
     },
     "execution_count": 26,
     "metadata": {},
     "output_type": "execute_result"
    },
    {
     "data": {
      "image/png": "[encoded data removed]",
      "text/plain": [
       "<Figure size 432x288 with 1 Axes>"
      ]
     },
     "metadata": {
      "needs_background": "light"
     },
     "output_type": "display_data"
    }
   ],
   "source": [
    "a_df.drop(['count', '25%', '50%', '75%']).plot.bar(title = 'Age and deposit statistics')"
   ]
  },
  {
   "cell_type": "code",
   "execution_count": 27,
   "id": "15351236",
   "metadata": {},
   "outputs": [
    {
     "data": {
      "text/html": [
       "<div>\n",
       "<style scoped>\n",
       "    .dataframe tbody tr th:only-of-type {\n",
       "        vertical-align: middle;\n",
       "    }\n",
       "\n",
       "    .dataframe tbody tr th {\n",
       "        vertical-align: top;\n",
       "    }\n",
       "\n",
       "    .dataframe thead th {\n",
       "        text-align: right;\n",
       "    }\n",
       "</style>\n",
       "<table border=\"1\" class=\"dataframe\">\n",
       "  <thead>\n",
       "    <tr style=\"text-align: right;\">\n",
       "      <th></th>\n",
       "      <th>campaign_yes</th>\n",
       "      <th>campaign_no</th>\n",
       "    </tr>\n",
       "  </thead>\n",
       "  <tbody>\n",
       "    <tr>\n",
       "      <th>count</th>\n",
       "      <td>5289.000000</td>\n",
       "      <td>39922.000000</td>\n",
       "    </tr>\n",
       "    <tr>\n",
       "      <th>mean</th>\n",
       "      <td>2.141047</td>\n",
       "      <td>2.846350</td>\n",
       "    </tr>\n",
       "    <tr>\n",
       "      <th>std</th>\n",
       "      <td>1.921826</td>\n",
       "      <td>3.212767</td>\n",
       "    </tr>\n",
       "    <tr>\n",
       "      <th>min</th>\n",
       "      <td>1.000000</td>\n",
       "      <td>1.000000</td>\n",
       "    </tr>\n",
       "    <tr>\n",
       "      <th>25%</th>\n",
       "      <td>1.000000</td>\n",
       "      <td>1.000000</td>\n",
       "    </tr>\n",
       "    <tr>\n",
       "      <th>50%</th>\n",
       "      <td>2.000000</td>\n",
       "      <td>2.000000</td>\n",
       "    </tr>\n",
       "    <tr>\n",
       "      <th>75%</th>\n",
       "      <td>3.000000</td>\n",
       "      <td>3.000000</td>\n",
       "    </tr>\n",
       "    <tr>\n",
       "      <th>max</th>\n",
       "      <td>32.000000</td>\n",
       "      <td>63.000000</td>\n",
       "    </tr>\n",
       "  </tbody>\n",
       "</table>\n",
       "</div>"
      ],
      "text/plain": [
       "       campaign_yes   campaign_no\n",
       "count   5289.000000  39922.000000\n",
       "mean       2.141047      2.846350\n",
       "std        1.921826      3.212767\n",
       "min        1.000000      1.000000\n",
       "25%        1.000000      1.000000\n",
       "50%        2.000000      2.000000\n",
       "75%        3.000000      3.000000\n",
       "max       32.000000     63.000000"
      ]
     },
     "execution_count": 27,
     "metadata": {},
     "output_type": "execute_result"
    }
   ],
   "source": [
    "#number of contacts performed during this campaign ('campaign') and deposit\n",
    "c_df = pd.DataFrame()\n",
    "c_df['campaign_yes'] = (raw_data[raw_data['y'] == 'yes'][['y','campaign']].describe())['campaign']\n",
    "c_df['campaign_no'] = (raw_data[raw_data['y'] == 'no'][['y','campaign']].describe())['campaign']\n",
    "\n",
    "c_df"
   ]
  },
  {
   "cell_type": "code",
   "execution_count": 28,
   "id": "c2d2bc1f",
   "metadata": {},
   "outputs": [
    {
     "data": {
      "text/plain": [
       "<AxesSubplot:title={'center':'Number of contacts performed during this campaign and deposit statistics'}>"
      ]
     },
     "execution_count": 28,
     "metadata": {},
     "output_type": "execute_result"
    },
    {
     "data": {
      "image/png": "[encoded data removed]",
      "text/plain": [
       "<Figure size 432x288 with 1 Axes>"
      ]
     },
     "metadata": {
      "needs_background": "light"
     },
     "output_type": "display_data"
    }
   ],
   "source": [
    "c_df.drop(['count', '25%', '50%', '75%']).plot.bar(title = 'Number of contacts performed during this campaign and deposit statistics')"
   ]
  },
  {
   "cell_type": "code",
   "execution_count": 29,
   "id": "ac74865a",
   "metadata": {},
   "outputs": [
    {
     "data": {
      "text/html": [
       "<div>\n",
       "<style scoped>\n",
       "    .dataframe tbody tr th:only-of-type {\n",
       "        vertical-align: middle;\n",
       "    }\n",
       "\n",
       "    .dataframe tbody tr th {\n",
       "        vertical-align: top;\n",
       "    }\n",
       "\n",
       "    .dataframe thead th {\n",
       "        text-align: right;\n",
       "    }\n",
       "</style>\n",
       "<table border=\"1\" class=\"dataframe\">\n",
       "  <thead>\n",
       "    <tr style=\"text-align: right;\">\n",
       "      <th></th>\n",
       "      <th>previous_yes</th>\n",
       "      <th>previous_no</th>\n",
       "    </tr>\n",
       "  </thead>\n",
       "  <tbody>\n",
       "    <tr>\n",
       "      <th>count</th>\n",
       "      <td>5289.000000</td>\n",
       "      <td>39922.000000</td>\n",
       "    </tr>\n",
       "    <tr>\n",
       "      <th>mean</th>\n",
       "      <td>1.170354</td>\n",
       "      <td>0.502154</td>\n",
       "    </tr>\n",
       "    <tr>\n",
       "      <th>std</th>\n",
       "      <td>2.553272</td>\n",
       "      <td>2.256771</td>\n",
       "    </tr>\n",
       "    <tr>\n",
       "      <th>min</th>\n",
       "      <td>0.000000</td>\n",
       "      <td>0.000000</td>\n",
       "    </tr>\n",
       "    <tr>\n",
       "      <th>25%</th>\n",
       "      <td>0.000000</td>\n",
       "      <td>0.000000</td>\n",
       "    </tr>\n",
       "    <tr>\n",
       "      <th>50%</th>\n",
       "      <td>0.000000</td>\n",
       "      <td>0.000000</td>\n",
       "    </tr>\n",
       "    <tr>\n",
       "      <th>75%</th>\n",
       "      <td>1.000000</td>\n",
       "      <td>0.000000</td>\n",
       "    </tr>\n",
       "    <tr>\n",
       "      <th>max</th>\n",
       "      <td>58.000000</td>\n",
       "      <td>275.000000</td>\n",
       "    </tr>\n",
       "  </tbody>\n",
       "</table>\n",
       "</div>"
      ],
      "text/plain": [
       "       previous_yes   previous_no\n",
       "count   5289.000000  39922.000000\n",
       "mean       1.170354      0.502154\n",
       "std        2.553272      2.256771\n",
       "min        0.000000      0.000000\n",
       "25%        0.000000      0.000000\n",
       "50%        0.000000      0.000000\n",
       "75%        1.000000      0.000000\n",
       "max       58.000000    275.000000"
      ]
     },
     "execution_count": 29,
     "metadata": {},
     "output_type": "execute_result"
    }
   ],
   "source": [
    "#number of contacts performed during previous campaign ('previous') and deposit\n",
    "p_df = pd.DataFrame()\n",
    "p_df['previous_yes'] = (raw_data[raw_data['y'] == 'yes'][['y','previous']].describe())['previous']\n",
    "p_df['previous_no'] = (raw_data[raw_data['y'] == 'no'][['y','previous']].describe())['previous']\n",
    "\n",
    "p_df"
   ]
  },
  {
   "cell_type": "code",
   "execution_count": 30,
   "id": "ec846ed2",
   "metadata": {},
   "outputs": [
    {
     "data": {
      "text/plain": [
       "<AxesSubplot:title={'center':'Number of contacts performed during previous campaign and deposit statistics'}>"
      ]
     },
     "execution_count": 30,
     "metadata": {},
     "output_type": "execute_result"
    },
    {
     "data": {
      "image/png": "[encoded data removed]",
      "text/plain": [
       "<Figure size 432x288 with 1 Axes>"
      ]
     },
     "metadata": {
      "needs_background": "light"
     },
     "output_type": "display_data"
    }
   ],
   "source": [
    "p_df.drop(['count', '25%', '50%', '75%']).plot.bar(title = 'Number of contacts performed during previous campaign and deposit statistics')"
   ]
  },
  {
   "cell_type": "markdown",
   "id": "f23eb8ec",
   "metadata": {},
   "source": [
    "### Categorical Variables"
   ]
  },
  {
   "cell_type": "code",
   "execution_count": 31,
   "id": "bb585789",
   "metadata": {},
   "outputs": [
    {
     "name": "stdout",
     "output_type": "stream",
     "text": [
      "Number of Categorical Features: 10 \n",
      " ['job', 'marital', 'education', 'default', 'housing', 'loan', 'contact', 'month', 'poutcome', 'y']\n"
     ]
    },
    {
     "data": {
      "text/html": [
       "<div>\n",
       "<style scoped>\n",
       "    .dataframe tbody tr th:only-of-type {\n",
       "        vertical-align: middle;\n",
       "    }\n",
       "\n",
       "    .dataframe tbody tr th {\n",
       "        vertical-align: top;\n",
       "    }\n",
       "\n",
       "    .dataframe thead th {\n",
       "        text-align: right;\n",
       "    }\n",
       "</style>\n",
       "<table border=\"1\" class=\"dataframe\">\n",
       "  <thead>\n",
       "    <tr style=\"text-align: right;\">\n",
       "      <th></th>\n",
       "      <th>job</th>\n",
       "      <th>marital</th>\n",
       "      <th>education</th>\n",
       "      <th>default</th>\n",
       "      <th>housing</th>\n",
       "      <th>loan</th>\n",
       "      <th>contact</th>\n",
       "      <th>month</th>\n",
       "      <th>poutcome</th>\n",
       "      <th>y</th>\n",
       "    </tr>\n",
       "  </thead>\n",
       "  <tbody>\n",
       "    <tr>\n",
       "      <th>0</th>\n",
       "      <td>management</td>\n",
       "      <td>married</td>\n",
       "      <td>tertiary</td>\n",
       "      <td>no</td>\n",
       "      <td>yes</td>\n",
       "      <td>no</td>\n",
       "      <td>unknown</td>\n",
       "      <td>may</td>\n",
       "      <td>unknown</td>\n",
       "      <td>no</td>\n",
       "    </tr>\n",
       "    <tr>\n",
       "      <th>1</th>\n",
       "      <td>technician</td>\n",
       "      <td>single</td>\n",
       "      <td>secondary</td>\n",
       "      <td>no</td>\n",
       "      <td>yes</td>\n",
       "      <td>no</td>\n",
       "      <td>unknown</td>\n",
       "      <td>may</td>\n",
       "      <td>unknown</td>\n",
       "      <td>no</td>\n",
       "    </tr>\n",
       "    <tr>\n",
       "      <th>2</th>\n",
       "      <td>entrepreneur</td>\n",
       "      <td>married</td>\n",
       "      <td>secondary</td>\n",
       "      <td>no</td>\n",
       "      <td>yes</td>\n",
       "      <td>yes</td>\n",
       "      <td>unknown</td>\n",
       "      <td>may</td>\n",
       "      <td>unknown</td>\n",
       "      <td>no</td>\n",
       "    </tr>\n",
       "    <tr>\n",
       "      <th>3</th>\n",
       "      <td>blue-collar</td>\n",
       "      <td>married</td>\n",
       "      <td>unknown</td>\n",
       "      <td>no</td>\n",
       "      <td>yes</td>\n",
       "      <td>no</td>\n",
       "      <td>unknown</td>\n",
       "      <td>may</td>\n",
       "      <td>unknown</td>\n",
       "      <td>no</td>\n",
       "    </tr>\n",
       "    <tr>\n",
       "      <th>4</th>\n",
       "      <td>unknown</td>\n",
       "      <td>single</td>\n",
       "      <td>unknown</td>\n",
       "      <td>no</td>\n",
       "      <td>no</td>\n",
       "      <td>no</td>\n",
       "      <td>unknown</td>\n",
       "      <td>may</td>\n",
       "      <td>unknown</td>\n",
       "      <td>no</td>\n",
       "    </tr>\n",
       "  </tbody>\n",
       "</table>\n",
       "</div>"
      ],
      "text/plain": [
       "            job  marital  education default housing loan  contact month  \\\n",
       "0    management  married   tertiary      no     yes   no  unknown   may   \n",
       "1    technician   single  secondary      no     yes   no  unknown   may   \n",
       "2  entrepreneur  married  secondary      no     yes  yes  unknown   may   \n",
       "3   blue-collar  married    unknown      no     yes   no  unknown   may   \n",
       "4       unknown   single    unknown      no      no   no  unknown   may   \n",
       "\n",
       "  poutcome   y  \n",
       "0  unknown  no  \n",
       "1  unknown  no  \n",
       "2  unknown  no  \n",
       "3  unknown  no  \n",
       "4  unknown  no  "
      ]
     },
     "execution_count": 31,
     "metadata": {},
     "output_type": "execute_result"
    }
   ],
   "source": [
    "categorical_features=[feature for feature in raw_data.columns if raw_data[feature].dtype=='O']\n",
    "print('Number of Categorical Features:',len(categorical_features), '\\n', categorical_features)\n",
    "raw_data[categorical_features].head()"
   ]
  },
  {
   "cell_type": "code",
   "execution_count": 32,
   "id": "e24645df",
   "metadata": {},
   "outputs": [
    {
     "name": "stdout",
     "output_type": "stream",
     "text": [
      "12 number of unique categories in feature named job\n",
      "3 number of unique categories in feature named marital\n",
      "4 number of unique categories in feature named education\n",
      "2 number of unique categories in feature named default\n",
      "2 number of unique categories in feature named housing\n",
      "2 number of unique categories in feature named loan\n",
      "3 number of unique categories in feature named contact\n",
      "12 number of unique categories in feature named month\n",
      "4 number of unique categories in feature named poutcome\n",
      "2 number of unique categories in feature named y\n"
     ]
    }
   ],
   "source": [
    "for feature in categorical_features:\n",
    "    print(\"{} number of unique categories in feature named {}\".format(len(raw_data[feature].unique()),feature))"
   ]
  },
  {
   "cell_type": "code",
   "execution_count": 39,
   "id": "bc87c1f6",
   "metadata": {},
   "outputs": [
    {
     "ename": "NameError",
     "evalue": "name 'col_name' is not defined",
     "output_type": "error",
     "traceback": [
      "\u001b[1;31m---------------------------------------------------------------------------\u001b[0m",
      "\u001b[1;31mNameError\u001b[0m                                 Traceback (most recent call last)",
      "Input \u001b[1;32mIn [39]\u001b[0m, in \u001b[0;36m<cell line: 2>\u001b[1;34m()\u001b[0m\n\u001b[0;32m      1\u001b[0m \u001b[38;5;66;03m# Decide which categorical variables you want to use in model\u001b[39;00m\n\u001b[0;32m      2\u001b[0m \u001b[38;5;28;01mfor\u001b[39;00m feature \u001b[38;5;129;01min\u001b[39;00m raw_data\u001b[38;5;241m.\u001b[39mcolumns:\n\u001b[1;32m----> 3\u001b[0m     \u001b[38;5;28;01mif\u001b[39;00m raw_data[\u001b[43mcol_name\u001b[49m]\u001b[38;5;241m.\u001b[39mdtypes \u001b[38;5;241m==\u001b[39m \u001b[38;5;124m'\u001b[39m\u001b[38;5;124mobject\u001b[39m\u001b[38;5;124m'\u001b[39m:\u001b[38;5;66;03m# in pandas it is object\u001b[39;00m\n\u001b[0;32m      4\u001b[0m         unique_cat \u001b[38;5;241m=\u001b[39m \u001b[38;5;28mlen\u001b[39m(raw_data[col_name]\u001b[38;5;241m.\u001b[39munique())\n\u001b[0;32m      5\u001b[0m         \u001b[38;5;28mprint\u001b[39m(\u001b[38;5;124m\"\u001b[39m\u001b[38;5;124mFeature \u001b[39m\u001b[38;5;124m'\u001b[39m\u001b[38;5;132;01m{col_name}\u001b[39;00m\u001b[38;5;124m'\u001b[39m\u001b[38;5;124m has \u001b[39m\u001b[38;5;132;01m{unique_cat}\u001b[39;00m\u001b[38;5;124m unique categories\u001b[39m\u001b[38;5;124m\"\u001b[39m\u001b[38;5;241m.\u001b[39mformat(col_name\u001b[38;5;241m=\u001b[39mcol_name, unique_cat\u001b[38;5;241m=\u001b[39munique_cat))\n",
      "\u001b[1;31mNameError\u001b[0m: name 'col_name' is not defined"
     ]
    }
   ],
   "source": [
    "# Decide which categorical variables you want to use in model\n",
    "for feature in raw_data.columns:\n",
    "    if raw_data[col_name].dtypes == 'object':# in pandas it is object\n",
    "        unique_cat = len(raw_data[col_name].unique())\n",
    "        print(\"Feature '{col_name}' has {unique_cat} unique categories\".format(col_name=col_name, unique_cat=unique_cat))\n",
    "        print(raw_data[col_name].value_counts())\n",
    "        print()"
   ]
  },
  {
   "cell_type": "code",
   "execution_count": null,
   "id": "13f61b09",
   "metadata": {
    "scrolled": false
   },
   "outputs": [],
   "source": [
    "cat_columns = ['job', 'marital', 'education', 'default', 'housing', 'loan', 'contact', 'month','poutcome']\n",
    "\n",
    "fig, axs = plt.subplots(3, 3, sharex=False, sharey=False, figsize=(20, 15))\n",
    "\n",
    "counter = 0\n",
    "for cat_column in cat_columns:\n",
    "    value_counts = raw_data[cat_column].value_counts()\n",
    "    \n",
    "    trace_x = counter // 3\n",
    "    trace_y = counter % 3\n",
    "    x_pos = np.arange(0, len(value_counts))\n",
    "    \n",
    "    axs[trace_x, trace_y].bar(x_pos, value_counts.values, tick_label = value_counts.index)\n",
    "    \n",
    "    axs[trace_x, trace_y].set_title(cat_column)\n",
    "    \n",
    "    for tick in axs[trace_x, trace_y].get_xticklabels():\n",
    "        tick.set_rotation(90)\n",
    "    \n",
    "    counter += 1\n",
    "\n",
    "plt.show()"
   ]
  },
  {
   "cell_type": "markdown",
   "id": "918635b6",
   "metadata": {},
   "source": [
    "### 3.5 Bar plot for all categorical variables in the dataset<a class=\"anchor\" id=\"3.5\"></a>"
   ]
  },
  {
   "cell_type": "code",
   "execution_count": null,
   "id": "87074ad4",
   "metadata": {},
   "outputs": [],
   "source": [
    "pal = sns.color_palette('rainbow')\n",
    "sns.countplot(x='job', data=raw_data, palette = pal, \n",
    "              order=raw_data['job'].value_counts().index, );\n",
    "plt.xticks(rotation = 90,fontsize = 12)\n",
    "plt.title('Jobs')"
   ]
  },
  {
   "cell_type": "code",
   "execution_count": null,
   "id": "f12b1c22",
   "metadata": {},
   "outputs": [],
   "source": [
    "sns.countplot(x='marital', data=raw_data, palette = pal, \n",
    "              order=raw_data['marital'].value_counts().index)\n",
    "plt.xticks(fontsize = 12)\n",
    "plt.title('Marital Status')"
   ]
  },
  {
   "cell_type": "code",
   "execution_count": null,
   "id": "353ef3c4",
   "metadata": {},
   "outputs": [],
   "source": [
    "sns.countplot(x='education', data=raw_data, palette = pal, \n",
    "              order=raw_data['education'].value_counts().index)\n",
    "plt.xticks(fontsize = 12)\n",
    "plt.title('Education')"
   ]
  },
  {
   "cell_type": "code",
   "execution_count": null,
   "id": "01b9797b",
   "metadata": {},
   "outputs": [],
   "source": [
    "sns.countplot(x='housing', data=raw_data, palette = pal, \n",
    "              order=raw_data['housing'].value_counts().index)\n",
    "plt.xticks(fontsize = 12)\n",
    "plt.title('Housing')"
   ]
  },
  {
   "cell_type": "code",
   "execution_count": null,
   "id": "5312df80",
   "metadata": {
    "scrolled": false
   },
   "outputs": [],
   "source": [
    "sns.countplot(x='loan', data=raw_data, palette = pal, \n",
    "              order=raw_data['loan'].value_counts().index)\n",
    "plt.xticks(fontsize = 12)\n",
    "plt.title('Loan')"
   ]
  },
  {
   "cell_type": "code",
   "execution_count": null,
   "id": "d19f9819",
   "metadata": {},
   "outputs": [],
   "source": [
    "countNotermdeposit = len(raw_data[raw_data.y == 'no'])\n",
    "counthavetermdeposit = len(raw_data[raw_data.y == 'yes'])\n",
    "print(\"Percentage of Customer doesn't have a term deposit: {:.2f}%\".format((countNotermdeposit / (len(raw_data.y))*100)))\n",
    "print(\"Percentage of Customer have a term deposit: {:.2f}%\".format((counthavetermdeposit / (len(raw_data.y))*100)))"
   ]
  },
  {
   "cell_type": "code",
   "execution_count": null,
   "id": "32966d64",
   "metadata": {},
   "outputs": [],
   "source": [
    "raw_data.y.value_counts()"
   ]
  },
  {
   "cell_type": "code",
   "execution_count": null,
   "id": "f59ae9b6",
   "metadata": {},
   "outputs": [],
   "source": [
    "sns.countplot(x='y', data=raw_data, palette = pal, \n",
    "              order=raw_data['y'].value_counts().index)\n",
    "plt.xticks(fontsize = 12)\n",
    "plt.title('Whether the client has subscribed a term deposit or not ')"
   ]
  },
  {
   "cell_type": "markdown",
   "id": "0d5d27fa",
   "metadata": {},
   "source": [
    "## 4. Data Visualization<a class=\"anchor\" id=\"4\"></a>"
   ]
  },
  {
   "cell_type": "markdown",
   "id": "da14bd98",
   "metadata": {},
   "source": [
    "#### Analyzing the relationship of categorical features with respect to the Target feature"
   ]
  },
  {
   "cell_type": "markdown",
   "id": "548ef2e0",
   "metadata": {},
   "source": [
    "#### Univariate Analysis"
   ]
  },
  {
   "cell_type": "code",
   "execution_count": null,
   "id": "9116406b",
   "metadata": {},
   "outputs": [],
   "source": [
    "#job and deposit\n",
    "j_df = pd.DataFrame()\n",
    "\n",
    "j_df['yes'] = raw_data[raw_data['y'] == 'yes']['job'].value_counts()\n",
    "j_df['no'] = raw_data[raw_data['y'] == 'no']['job'].value_counts()\n",
    "\n",
    "j_df.plot.bar(title = 'Job and deposit')"
   ]
  },
  {
   "cell_type": "code",
   "execution_count": null,
   "id": "236024aa",
   "metadata": {},
   "outputs": [],
   "source": [
    "fig= plt.figure(figsize=(18, 6))\n",
    "sns.heatmap(pd.crosstab(index=raw_data['job'], columns=raw_data['y']), annot=True, \n",
    "            fmt='g')"
   ]
  },
  {
   "cell_type": "code",
   "execution_count": null,
   "id": "aac76e9d",
   "metadata": {},
   "outputs": [],
   "source": [
    "#marital status and deposit\n",
    "j_df = pd.DataFrame()\n",
    "\n",
    "j_df['yes'] = raw_data[raw_data['y'] == 'yes']['marital'].value_counts()\n",
    "j_df['no'] = raw_data[raw_data['y'] == 'no']['marital'].value_counts()\n",
    "\n",
    "j_df.plot.bar(title = 'Marital status and deposit')"
   ]
  },
  {
   "cell_type": "code",
   "execution_count": null,
   "id": "57bc2d59",
   "metadata": {},
   "outputs": [],
   "source": [
    "fig= plt.figure(figsize=(18, 3))\n",
    "sns.heatmap(pd.crosstab(index=raw_data['marital'], columns=raw_data['y']), annot=True, \n",
    "            fmt='g')"
   ]
  },
  {
   "cell_type": "code",
   "execution_count": null,
   "id": "5c6e628d",
   "metadata": {},
   "outputs": [],
   "source": [
    "#education and deposit\n",
    "j_df = pd.DataFrame()\n",
    "\n",
    "j_df['yes'] = raw_data[raw_data['y'] == 'yes']['education'].value_counts()\n",
    "j_df['no'] = raw_data[raw_data['y'] == 'no']['education'].value_counts()\n",
    "\n",
    "j_df.plot.bar(title = 'Education and deposit')"
   ]
  },
  {
   "cell_type": "code",
   "execution_count": null,
   "id": "d8281d81",
   "metadata": {},
   "outputs": [],
   "source": [
    "fig= plt.figure(figsize=(18, 3))\n",
    "sns.heatmap(pd.crosstab(index=raw_data['education'], columns=raw_data['y']), annot=True, \n",
    "            fmt='g')"
   ]
  },
  {
   "cell_type": "code",
   "execution_count": null,
   "id": "16875843",
   "metadata": {},
   "outputs": [],
   "source": [
    "#type of contact and deposit\n",
    "j_df = pd.DataFrame()\n",
    "\n",
    "j_df['yes'] = raw_data[raw_data['y'] == 'yes']['contact'].value_counts()\n",
    "j_df['no'] = raw_data[raw_data['y'] == 'no']['contact'].value_counts()\n",
    "\n",
    "j_df.plot.bar(title = 'Type of contact and deposit')"
   ]
  },
  {
   "cell_type": "code",
   "execution_count": null,
   "id": "4ff4ecf0",
   "metadata": {},
   "outputs": [],
   "source": [
    "fig= plt.figure(figsize=(18, 3))\n",
    "sns.heatmap(pd.crosstab(index=raw_data['contact'], columns=raw_data['y']), annot=True, \n",
    "            fmt='g')"
   ]
  },
  {
   "cell_type": "code",
   "execution_count": null,
   "id": "2ebbbefb",
   "metadata": {},
   "outputs": [],
   "source": [
    "#type of contact and deposit\n",
    "j_df = pd.DataFrame()\n",
    "\n",
    "j_df['yes'] = raw_data[raw_data['y'] == 'yes']['poutcome'].value_counts()\n",
    "j_df['no'] = raw_data[raw_data['y'] == 'no']['poutcome'].value_counts()\n",
    "\n",
    "j_df.plot.bar(title = 'Type of possible outcome and deposit')"
   ]
  },
  {
   "cell_type": "code",
   "execution_count": null,
   "id": "7eaf18ac",
   "metadata": {},
   "outputs": [],
   "source": [
    "fig= plt.figure(figsize=(18, 3))\n",
    "sns.heatmap(pd.crosstab(index=raw_data['poutcome'], columns=raw_data['y']), annot=True, \n",
    "            fmt='g')"
   ]
  },
  {
   "cell_type": "code",
   "execution_count": null,
   "id": "c91f58fb",
   "metadata": {},
   "outputs": [],
   "source": [
    "#type of contact and deposit\n",
    "j_df = pd.DataFrame()\n",
    "\n",
    "j_df['yes'] = raw_data[raw_data['y'] == 'yes']['loan'].value_counts()\n",
    "j_df['no'] = raw_data[raw_data['y'] == 'no']['loan'].value_counts()\n",
    "\n",
    "j_df.plot.bar(title = 'Loan and deposit')"
   ]
  },
  {
   "cell_type": "code",
   "execution_count": null,
   "id": "1abf2b28",
   "metadata": {},
   "outputs": [],
   "source": [
    "fig= plt.figure(figsize=(18, 3))\n",
    "sns.heatmap(pd.crosstab(index=raw_data['loan'], columns=raw_data['y']), annot=True, \n",
    "            fmt='g')"
   ]
  },
  {
   "cell_type": "markdown",
   "id": "24332670",
   "metadata": {},
   "source": [
    "### 4.1 Analyzing Relation by plotting Continuous features with the Target Feature<a class=\"anchor\" id=\"4.1\"></a>"
   ]
  },
  {
   "cell_type": "code",
   "execution_count": null,
   "id": "3190517b",
   "metadata": {
    "scrolled": true
   },
   "outputs": [],
   "source": [
    "pd.crosstab(raw_data.age,raw_data.y).plot(kind=\"bar\",figsize=(20,6))\n",
    "plt.title('Term Deposit accepted Frequency for Ages', fontsize = 16)\n",
    "plt.xticks(fontsize = 12)\n",
    "plt.xlabel('Age', fontsize = 15)\n",
    "plt.ylabel('Frequency')\n",
    "plt.show()"
   ]
  },
  {
   "cell_type": "code",
   "execution_count": null,
   "id": "b277ec76",
   "metadata": {},
   "outputs": [],
   "source": [
    "plt.scatter(x=raw_data.age[raw_data.y== 'yes'], y=raw_data.balance[(raw_data.y== 'yes')], c=\"red\")\n",
    "plt.scatter(x=raw_data.age[raw_data.y== 'no'], y=raw_data.balance[(raw_data.y== 'no')])\n",
    "plt.legend([\"Term Deposit\", \"NO Term Deposit\"])\n",
    "plt.xlabel(\"Age\")\n",
    "plt.ylabel(\"Balance\")\n",
    "plt.show()"
   ]
  },
  {
   "cell_type": "markdown",
   "id": "7b586b96",
   "metadata": {},
   "source": [
    "### 4.2 Visualize the subscription and contact rate by age <a class=\"anchor\" id=\"4.2\"></a>"
   ]
  },
  {
   "cell_type": "code",
   "execution_count": null,
   "id": "4aee1f28",
   "metadata": {},
   "outputs": [],
   "source": [
    "lst = [raw_data]\n",
    "for column in lst:\n",
    "    column.loc[column[\"age\"] < 30,  'age_group'] = 20\n",
    "    column.loc[(column[\"age\"] >= 30) & (column[\"age\"] <= 39), 'age_group'] = 30\n",
    "    column.loc[(column[\"age\"] >= 40) & (column[\"age\"] <= 49), 'age_group'] = 40\n",
    "    column.loc[(column[\"age\"] >= 50) & (column[\"age\"] <= 59), 'age_group'] = 50\n",
    "    column.loc[column[\"age\"] >= 60, 'age_group'] = 60\n",
    "    \n",
    "count_age_response_pct = pd.crosstab(raw_data['y'],raw_data['age_group']).apply(lambda x: x/x.sum() * 100)\n",
    "count_age_response_pct = count_age_response_pct.transpose() \n",
    "\n",
    "age = pd.DataFrame(raw_data['age_group'].value_counts())\n",
    "age['% Contacted'] = age['age_group']*100/age['age_group'].sum()\n",
    "age['% Subscription'] = count_age_response_pct['yes']\n",
    "age['% Refusal'] = count_age_response_pct['no']\n",
    "age.drop('age_group',axis = 1,inplace = True)\n",
    "\n",
    "age['age'] = [30,40,50,20,60]\n",
    "age = age.sort_values('age',ascending = True)\n",
    "\n",
    "plot_age = age[['% Contacted','% Subscription','% Refusal']].plot(kind = 'bar',\n",
    "                                              figsize=(8,6), color = ('yellow','green','red'))\n",
    "plt.xlabel('Age Group')\n",
    "plt.ylabel('Subscription Rate')\n",
    "plt.xticks(np.arange(5), ('<30', '30-39', '40-49', '50-59', '60+'),rotation = 'horizontal')\n",
    "plt.title('Subscription vs. Contact Rate by Age')\n",
    "plt.show()"
   ]
  },
  {
   "cell_type": "code",
   "execution_count": null,
   "id": "df5f102b",
   "metadata": {},
   "outputs": [],
   "source": [
    "lst = [raw_data]\n",
    "for column in lst:\n",
    "    column.loc[column[\"age\"] < 30,  'age_group'] = 20\n",
    "    column.loc[(column[\"age\"] >= 30) & (column[\"age\"] <= 39), 'age_group'] = 30\n",
    "    column.loc[(column[\"age\"] >= 40) & (column[\"age\"] <= 49), 'age_group'] = 40\n",
    "    column.loc[(column[\"age\"] >= 50) & (column[\"age\"] <= 59), 'age_group'] = 50\n",
    "    column.loc[column[\"age\"] >= 60, 'age_group'] = 60\n",
    "    \n",
    "count_age_response_pct = pd.crosstab(raw_data['y'],raw_data['age_group']).apply(lambda x: x/x.sum() * 100)\n",
    "count_age_response_pct = count_age_response_pct.transpose() \n",
    "\n",
    "age = pd.DataFrame(raw_data['age_group'].value_counts())\n",
    "age['% Contacted'] = age['age_group']*100/age['age_group'].sum()\n",
    "age['% Subscription'] = count_age_response_pct['yes']\n",
    "age.drop('age_group',axis = 1,inplace = True)\n",
    "\n",
    "age['age'] = [30,40,50,20,60]\n",
    "age = age.sort_values('age',ascending = True)\n",
    "\n",
    "plot_age = age[['% Subscription','% Contacted']].plot(kind = 'bar',\n",
    "                                              figsize=(8,6), color = ('green','red'))\n",
    "plt.xlabel('Age Group')\n",
    "plt.ylabel('Subscription Rate')\n",
    "plt.xticks(np.arange(5), ('<30', '30-39', '40-49', '50-59', '60+'),rotation = 'horizontal')\n",
    "plt.title('Subscription vs. Contact Rate by Age')\n",
    "\n",
    "# label the bar\n",
    "for rec, label in zip(plot_age.patches,\n",
    "                      age['% Subscription'].round(1).astype(str)):\n",
    "    plot_age.text(rec.get_x() + rec.get_width()/2, \n",
    "                      rec.get_height() + 1, \n",
    "                      label+'%',  \n",
    "                      ha = 'center', \n",
    "                      color = 'black')"
   ]
  },
  {
   "cell_type": "markdown",
   "id": "e7548ddb",
   "metadata": {},
   "source": [
    "### 4.3 Visualize the subscription rate by balance level<a class=\"anchor\" id=\"4.3\"></a>"
   ]
  },
  {
   "cell_type": "code",
   "execution_count": null,
   "id": "c549c66c",
   "metadata": {},
   "outputs": [],
   "source": [
    "lst = [raw_data]\n",
    "for column in lst:\n",
    "    column.loc[column[\"balance\"] <= 0,  'balance_group'] = 'no balance'\n",
    "    column.loc[(column[\"balance\"] > 0) & (column[\"balance\"] <= 1000), 'balance_group'] = 'low balance'\n",
    "    column.loc[(column[\"balance\"] > 1000) & (column[\"balance\"] <= 5000), 'balance_group'] = 'average balance'\n",
    "    column.loc[(column[\"balance\"] > 5000), 'balance_group'] = 'high balance'\n",
    "    \n",
    "count_balance_response_pct = pd.crosstab(raw_data['y'],raw_data['balance_group']).apply(lambda x: x/x.sum() * 100)\n",
    "count_balance_response_pct = count_balance_response_pct.transpose()\n",
    "\n",
    "bal = pd.DataFrame(raw_data['balance_group'].value_counts())\n",
    "bal['% Contacted'] = bal['balance_group']*100/bal['balance_group'].sum()\n",
    "bal['% Subscription'] = count_balance_response_pct['yes']\n",
    "bal.drop('balance_group',axis = 1,inplace = True)\n",
    "\n",
    "bal['bal'] = [1,2,0,3]\n",
    "bal = bal.sort_values('bal',ascending = True)\n",
    "\n",
    "plot_balance = bal[['% Subscription','% Contacted']].plot(kind = 'bar',\n",
    "                                               color = ('green','red'),\n",
    "                                               figsize = (8,6))\n",
    "\n",
    "plt.title('Subscription vs Contact Rate by Balance Level')\n",
    "plt.ylabel('Subscription Rate')\n",
    "plt.xlabel('Balance Category')\n",
    "plt.xticks(rotation = 'horizontal')\n",
    "\n",
    "# label the bar\n",
    "for rec, label in zip(plot_balance.patches,\n",
    "                      bal['% Subscription'].round(1).astype(str)):\n",
    "    plot_balance.text(rec.get_x() + rec.get_width()/2, \n",
    "                      rec.get_height() + 1, \n",
    "                      label+'%',  \n",
    "                      ha = 'center', \n",
    "                      color = 'black')"
   ]
  },
  {
   "cell_type": "markdown",
   "id": "3eb227f3",
   "metadata": {},
   "source": [
    "### 4.4 Visualize the subscription rate by age and balance<a class=\"anchor\" id=\"4.4\"></a>"
   ]
  },
  {
   "cell_type": "code",
   "execution_count": null,
   "id": "c0102cc7",
   "metadata": {},
   "outputs": [],
   "source": [
    "# Step 1: Change column name: 'y' to 'response'\n",
    "df  =raw_data.copy()\n",
    "df.rename(index=str, columns={'y': 'response'}, inplace = True)\n",
    "\n",
    "def convert(data, new_column, old_column):\n",
    "    data[new_column] = data[old_column].apply(lambda x: 0 if x == 'no' else 1)\n",
    "    return data[new_column].value_counts()\n",
    "\n",
    "convert(df, \"response_binary\", \"response\")"
   ]
  },
  {
   "cell_type": "code",
   "execution_count": null,
   "id": "72feff7a",
   "metadata": {},
   "outputs": [],
   "source": [
    "age_balance1 = pd.DataFrame(df.groupby(['age_group','balance_group'])['response_binary'].sum())\n",
    "age_balance2 = pd.DataFrame(df.groupby(['age_group','balance_group'])['response'].count())\n",
    "\n",
    "age_balance1['response'] = age_balance2['response']\n",
    "age_balance1['response_rate'] = age_balance1['response_binary']/ (age_balance1['response'])\n",
    "age_balance1 = age_balance1.drop(['response_binary','response'],axis =1)\n",
    "\n",
    "age_balance1 = age_balance1.unstack()\n",
    "age_bal = age_balance1.plot(kind='bar',figsize = (10,6))\n",
    "\n",
    "# Set x ticks\n",
    "plt.xticks(np.arange(5),('<30', '30-39', '40-49', '50-59', '60+'),rotation = 'horizontal')\n",
    "\n",
    "# Set legend\n",
    "plt.legend(['Average Balance','High Balance','Low Balance','No Balance'],loc = 'best',ncol = 1)\n",
    "\n",
    "plt.ylabel('Subscription Rate')\n",
    "plt.xlabel('Age Group')\n",
    "plt.title('The Subscription Rate of Different Balance Levels in Each Age Group')\n",
    "plt.show()"
   ]
  },
  {
   "cell_type": "markdown",
   "id": "f9afb4be",
   "metadata": {},
   "source": [
    "### 4.5 Visualize the subscription rate by job<a class=\"anchor\" id=\"4.5\"></a>"
   ]
  },
  {
   "cell_type": "code",
   "execution_count": null,
   "id": "f1df4013",
   "metadata": {},
   "outputs": [],
   "source": [
    "count_job_response_pct = pd.crosstab(df['response'],df['job']).apply(lambda x: x/x.sum() * 100)\n",
    "count_job_response_pct"
   ]
  },
  {
   "cell_type": "code",
   "execution_count": null,
   "id": "96ddda03",
   "metadata": {},
   "outputs": [],
   "source": [
    "count_job_response_pct = count_job_response_pct.transpose()\n",
    "count_job_response_pct"
   ]
  },
  {
   "cell_type": "code",
   "execution_count": null,
   "id": "87b03086",
   "metadata": {},
   "outputs": [],
   "source": [
    "plot_job = count_job_response_pct['yes'].sort_values(ascending = True).plot(kind ='barh',\n",
    "                                                                           figsize = (12,6))\n",
    "                                                                               \n",
    "plt.title('Subscription Rate by Job')\n",
    "plt.xlabel('Subscription Rate')\n",
    "plt.ylabel('Job Category')\n",
    "\n",
    "# Label each bar\n",
    "for rec, label in zip(plot_job.patches,\n",
    "                      count_job_response_pct['yes'].sort_values(ascending = True).round(1).astype(str)):\n",
    "    plot_job.text(rec.get_width()+0.8, \n",
    "                  rec.get_y()+ rec.get_height()-0.5, \n",
    "                  label+'%', \n",
    "                  ha = 'center', \n",
    "                  va='bottom')"
   ]
  },
  {
   "cell_type": "markdown",
   "id": "92ef0a0e",
   "metadata": {},
   "source": [
    "### 4.6 Visualize the relationship between 'duration' & 'campaign': with response result<a class=\"anchor\" id=\"4.6\"></a>"
   ]
  },
  {
   "cell_type": "code",
   "execution_count": null,
   "id": "494dee8e",
   "metadata": {},
   "outputs": [],
   "source": [
    "dur_cam = sns.lmplot(x='duration', y='campaign',data = df1,\n",
    "                     hue = 'response',\n",
    "                     fit_reg = False,\n",
    "                     scatter_kws={'alpha':0.6}, height =7)\n",
    "\n",
    "plt.axis([0,65,0,65])\n",
    "plt.ylabel('Number of Calls')\n",
    "plt.xlabel('Duration of Calls (Minutes)')\n",
    "plt.title('The Relationship between the Number and Duration of Calls (with Response Result)')\n",
    "\n",
    "# Annotation\n",
    "plt.axhline(y=10, linewidth=2, color=\"k\", linestyle='--')\n",
    "plt.axvline(x=35, linewidth=2, color=\"k\", linestyle='--' )\n",
    "plt.annotate(\"Higher subscription rate when \\n number of calls <10 \\n and duration <35\",xytext = (40,15),\n",
    "             arrowprops=dict(color = 'k', width=1),xy=(35,10))\n",
    "plt.show()"
   ]
  },
  {
   "cell_type": "markdown",
   "id": "6826b20b",
   "metadata": {},
   "source": [
    "### 4.7 Visualize the subscription and contact rate by month<a class=\"anchor\" id=\"4.7\"></a>"
   ]
  },
  {
   "cell_type": "code",
   "execution_count": null,
   "id": "580315de",
   "metadata": {},
   "outputs": [],
   "source": [
    "# Step 4: Change 'month' from words to numbers for easier analysis\n",
    "order={'month':{'jan':1,'feb':2,'mar':3,'apr':4,'may':5,'jun':6,'jul':7,'aug':8,'sep':9,'oct':10,'nov':11,'dec':12}}\n",
    "df1=df1.replace(order)\n",
    "\n",
    "count_month_response_pct = pd.crosstab(df1['response'],df1['month']).apply(lambda x: x/x.sum() * 100)\n",
    "count_month_response_pct = count_month_response_pct.transpose()\n",
    "month = pd.DataFrame(df1['month'].value_counts())\n",
    "month['% Contacted'] = month['month']*100/month['month'].sum()\n",
    "month['% Subscription'] = count_month_response_pct['yes']\n",
    "month.drop('month',axis = 1,inplace = True)\n",
    "\n",
    "month['Month'] = [5,7,8,6,11,4,2,1,10,9,3,12]\n",
    "month = month.sort_values('Month',ascending = True)\n",
    "plot_month = month[['% Subscription','% Contacted']].plot(kind ='line',\n",
    "                                                          figsize = (10,6),\n",
    "                                                          marker = 'o')\n",
    "\n",
    "plt.title('Subscription vs. Contact Rate by Month')\n",
    "plt.ylabel('Subscription and Contact Rate')\n",
    "plt.xlabel('Month')\n",
    "\n",
    "ticks = np.arange(1,13,1)\n",
    "plt.xticks(ticks)\n",
    "\n",
    "# Annotation: peak of contact\n",
    "y = month['% Contacted'].max()\n",
    "x = month['% Contacted'].idxmax()\n",
    "plt.annotate('May: Peak of contact', xy=(x+0.1, y+0.1), xytext=(x+1,y+4), arrowprops=dict(facecolor='black', headwidth=6, width=1, headlength=4), horizontalalignment='left', verticalalignment='top')\n",
    "\n",
    "# Annotation: peak of subscription rate\n",
    "y = month['% Subscription'].max()\n",
    "x = month['% Subscription'].idxmax()\n",
    "plt.annotate('March: Peak Subscription rate', xy=(x+0.1, y+0.1), xytext=(x+1,y+1), arrowprops=dict(facecolor='black', headwidth=6, width=1, headlength=4), horizontalalignment='left', verticalalignment='top')\n",
    "\n",
    "plt.show()"
   ]
  },
  {
   "cell_type": "markdown",
   "id": "2c5191e5",
   "metadata": {},
   "source": [
    "#### Visualize the subscription rate by Education"
   ]
  },
  {
   "cell_type": "code",
   "execution_count": null,
   "id": "8d5b97c7",
   "metadata": {},
   "outputs": [],
   "source": [
    "df.education.unique()"
   ]
  },
  {
   "cell_type": "code",
   "execution_count": null,
   "id": "89ef3afd",
   "metadata": {},
   "outputs": [],
   "source": [
    "count_education_response_pct = pd.crosstab(df['response'],df['education']).apply(lambda x: x/x.sum() * 100)\n",
    "count_education_response_pct = count_education_response_pct.transpose()\n",
    "count_education_response_pct"
   ]
  },
  {
   "cell_type": "code",
   "execution_count": null,
   "id": "1acfa136",
   "metadata": {},
   "outputs": [],
   "source": [
    "plot_education = count_education_response_pct['yes'].sort_values(ascending = True).plot(kind ='barh',\n",
    "                                                                           figsize = (14,6))\n",
    "                                                                               \n",
    "plt.title('Subscription Rate by Education')\n",
    "plt.xlabel('Subscription Rate')\n",
    "plt.ylabel('Education Category')\n",
    "\n",
    "# Label each bar\n",
    "for rec, label in zip(plot_education.patches,\n",
    "                      count_education_response_pct['yes'].sort_values(ascending = True).round(1).astype(str)):\n",
    "    plot_education.text(rec.get_width()+0.5, \n",
    "                  rec.get_y()+ rec.get_height()-0.5, \n",
    "                  label+'%', \n",
    "                  ha = 'center', \n",
    "                  va='bottom',\n",
    "                fontsize = 'large')"
   ]
  },
  {
   "cell_type": "markdown",
   "id": "9ae67250",
   "metadata": {},
   "source": [
    "## 5. Clean the dataset <a class=\"anchor\" id=\"5\"></a>\n",
    "#### Deal with missing data \n",
    "There is no missing value in this dataset. Nevertheless, there are values like “unknown”, “others”, which are helpless just like missing values. Thus, these ambiguous values are removed from the dataset."
   ]
  },
  {
   "cell_type": "code",
   "execution_count": null,
   "id": "574770ff",
   "metadata": {},
   "outputs": [],
   "source": [
    "cols = [col for col in raw_data.columns]\n",
    "col_missing = []\n",
    "for col in cols:\n",
    "    if 'unknown' in raw_data[col].values:\n",
    "        col_missing.append(col)\n",
    "        \n",
    "print(\"Columns with Unknown Values -\",col_missing) "
   ]
  },
  {
   "cell_type": "code",
   "execution_count": null,
   "id": "f04e07e8",
   "metadata": {},
   "outputs": [],
   "source": [
    "print(\"Unknown values count\")\n",
    "for col in col_missing:\n",
    "    print(col,\"-\",raw_data[raw_data[col].str.contains('unknown')][col].count())"
   ]
  },
  {
   "cell_type": "code",
   "execution_count": null,
   "id": "d8fe9479",
   "metadata": {},
   "outputs": [],
   "source": [
    "print(raw_data.groupby(raw_data['job'])['job'].count(),\"\\n\")"
   ]
  },
  {
   "cell_type": "code",
   "execution_count": null,
   "id": "b03b3b96",
   "metadata": {},
   "outputs": [],
   "source": [
    "print(raw_data.groupby(raw_data['education'])['education'].count(),\"\\n\")"
   ]
  },
  {
   "cell_type": "code",
   "execution_count": null,
   "id": "d6345beb",
   "metadata": {},
   "outputs": [],
   "source": [
    "print(raw_data.groupby(raw_data['poutcome'])['poutcome'].count(),\"\\n\")"
   ]
  },
  {
   "cell_type": "code",
   "execution_count": null,
   "id": "bf03c365",
   "metadata": {},
   "outputs": [],
   "source": [
    "print(raw_data.groupby(raw_data['contact'])['contact'].count(),\"\\n\")"
   ]
  },
  {
   "cell_type": "markdown",
   "id": "bf727844",
   "metadata": {},
   "source": [
    "### 5.1 Creating and transforming data<a class=\"anchor\" id=\"5.1\"></a>"
   ]
  },
  {
   "cell_type": "code",
   "execution_count": null,
   "id": "1fb317bf",
   "metadata": {},
   "outputs": [],
   "source": [
    "df = raw_data.copy()"
   ]
  },
  {
   "cell_type": "code",
   "execution_count": null,
   "id": "0be4c3f4",
   "metadata": {},
   "outputs": [],
   "source": [
    "# Step 2: Replace 'unknown' in job and education with 'other'\n",
    "df[['job','education','contact','poutcome']] = df[['job','education','contact','poutcome']].replace(['unknown'],'other')"
   ]
  },
  {
   "cell_type": "code",
   "execution_count": null,
   "id": "b807e4f3",
   "metadata": {},
   "outputs": [],
   "source": [
    "df.poutcome.value_counts()"
   ]
  },
  {
   "cell_type": "code",
   "execution_count": null,
   "id": "1632f75f",
   "metadata": {},
   "outputs": [],
   "source": [
    "# Custom Binary Encoding of Binary o/p variables \n",
    "df['default'] = np.where(df['default'].str.contains(\"yes\"), 1, 0)\n",
    "df['housing'] = np.where(df['housing'].str.contains(\"yes\"), 1, 0)\n",
    "df['loan'] = np.where(df['loan'].str.contains(\"yes\"), 1, 0)\n",
    "df['y'] = np.where(df['y'].str.contains(\"yes\"), 1, 0)\n",
    "df"
   ]
  },
  {
   "cell_type": "markdown",
   "id": "f79a90ba",
   "metadata": {},
   "source": [
    "### Making dataframe of all the categorical columns to make dummy variables for all these categorical variables."
   ]
  },
  {
   "cell_type": "code",
   "execution_count": null,
   "id": "c1231737",
   "metadata": {},
   "outputs": [],
   "source": [
    "# One-Hot Encoding of categrical variables\n",
    "# df=pd.get_dummies(df,columns=['job', 'marital', 'education', 'contact', 'month', 'poutcome'])\n",
    "# To see all columns\n",
    "# pd.set_option(\"display.max.columns\", None)\n",
    "# df"
   ]
  },
  {
   "cell_type": "code",
   "execution_count": null,
   "id": "27703879",
   "metadata": {},
   "outputs": [],
   "source": [
    "categorical = df.select_dtypes(include=['object'])\n",
    "categorical.head()"
   ]
  },
  {
   "cell_type": "code",
   "execution_count": null,
   "id": "8eae0cce",
   "metadata": {},
   "outputs": [],
   "source": [
    "categorical.poutcome.value_counts()"
   ]
  },
  {
   "cell_type": "code",
   "execution_count": null,
   "id": "ed00eff9",
   "metadata": {},
   "outputs": [],
   "source": [
    "# dummy variables of all categorical columns\n",
    "dummies = pd.get_dummies(categorical)\n",
    "dummies.head()"
   ]
  },
  {
   "cell_type": "code",
   "execution_count": null,
   "id": "7ed72a34",
   "metadata": {},
   "outputs": [],
   "source": [
    "# concatination of two dataframes 'bank' and 'dummies'\n",
    "df = pd.concat([df,dummies],axis=1)\n",
    "df.drop(columns=categorical.columns,axis=1,inplace=True)"
   ]
  },
  {
   "cell_type": "code",
   "execution_count": null,
   "id": "9744a37d",
   "metadata": {},
   "outputs": [],
   "source": [
    "# To see all columns\n",
    "pd.set_option(\"display.max.columns\", None)\n",
    "df"
   ]
  },
  {
   "cell_type": "code",
   "execution_count": null,
   "id": "9ffe2a67",
   "metadata": {},
   "outputs": [],
   "source": [
    "df.columns"
   ]
  },
  {
   "cell_type": "code",
   "execution_count": null,
   "id": "40a1e224",
   "metadata": {},
   "outputs": [],
   "source": [
    "df[['age', 'default', 'balance', 'housing', 'loan', 'day', 'duration',\n",
    "       'campaign', 'pdays', 'previous', 'y', 'job_admin.', 'job_blue-collar',\n",
    "       'job_entrepreneur', 'job_housemaid', 'job_management', 'job_other',\n",
    "       'job_retired', 'job_self-employed', 'job_services', 'job_student',\n",
    "       'job_technician', 'job_unemployed', 'marital_divorced',\n",
    "       'marital_married', 'marital_single', 'education_other',\n",
    "       'education_primary', 'education_secondary', 'education_tertiary',\n",
    "       'contact_cellular', 'contact_other', 'contact_telephone', 'month_apr',\n",
    "       'month_aug', 'month_dec', 'month_feb', 'month_jan', 'month_jul',\n",
    "       'month_jun', 'month_mar', 'month_may', 'month_nov', 'month_oct',\n",
    "       'month_sep', 'poutcome_failure', 'poutcome_other', 'poutcome_success']]=df[['age', 'default', 'balance', 'housing', 'loan', 'day', 'duration',\n",
    "       'campaign', 'pdays', 'previous', 'y', 'job_admin.', 'job_blue-collar',\n",
    "       'job_entrepreneur', 'job_housemaid', 'job_management', 'job_other',\n",
    "       'job_retired', 'job_self-employed', 'job_services', 'job_student',\n",
    "       'job_technician', 'job_unemployed', 'marital_divorced',\n",
    "       'marital_married', 'marital_single', 'education_other',\n",
    "       'education_primary', 'education_secondary', 'education_tertiary',\n",
    "       'contact_cellular', 'contact_other', 'contact_telephone', 'month_apr',\n",
    "       'month_aug', 'month_dec', 'month_feb', 'month_jan', 'month_jul',\n",
    "       'month_jun', 'month_mar', 'month_may', 'month_nov', 'month_oct',\n",
    "       'month_sep', 'poutcome_failure', 'poutcome_other', 'poutcome_success']].astype('int64')\n",
    "df.info()"
   ]
  },
  {
   "cell_type": "code",
   "execution_count": null,
   "id": "0b267476",
   "metadata": {},
   "outputs": [],
   "source": [
    "# Label Encoding Technique"
   ]
  },
  {
   "cell_type": "code",
   "execution_count": null,
   "id": "a4829a09",
   "metadata": {},
   "outputs": [],
   "source": [
    "order={'month':{'jan':1,'feb':2,'mar':3,'apr':4,'may':5,'jun':6,'jul':7,'aug':8,'sep':9,'oct':10,'nov':11,'dec':12}}\n",
    "df=df.replace(order)"
   ]
  },
  {
   "cell_type": "code",
   "execution_count": null,
   "id": "467e56e4",
   "metadata": {},
   "outputs": [],
   "source": [
    "# Label Encoding of categrical variables\n",
    "from sklearn import preprocessing\n",
    " \n",
    "# label_encoder object knows how to understand word labels.\n",
    "label_encoder = preprocessing.LabelEncoder()\n",
    " \n",
    "# Encode labels in column 'species'.\n",
    "raw_data['job']= label_encoder.fit_transform(raw_data['job'])\n",
    "raw_data['marital']= label_encoder.fit_transform(raw_data['marital'])\n",
    "raw_data['education']= label_encoder.fit_transform(raw_data['education'])\n",
    "raw_data['contact']= label_encoder.fit_transform(raw_data['contact'])\n",
    "raw_data['poutcome']= label_encoder.fit_transform(raw_data['poutcome'])\n",
    "\n",
    "raw_data.head(10)"
   ]
  },
  {
   "cell_type": "code",
   "execution_count": null,
   "id": "245e0742",
   "metadata": {},
   "outputs": [],
   "source": [
    "raw_data.month.unique()"
   ]
  },
  {
   "cell_type": "code",
   "execution_count": null,
   "id": "3b2d331b",
   "metadata": {},
   "outputs": [],
   "source": [
    "# Change the unit of 'duration' from seconds to minutes\n",
    "df['duration'] = df['duration'].apply(lambda n:n/60).round(2)\n",
    "df.head()"
   ]
  },
  {
   "cell_type": "markdown",
   "id": "a1e6dd78",
   "metadata": {},
   "source": [
    "### Applying Standard Scaler\n",
    "+ For each feature, the Standard Scaler scales the values such that the mean is 0 and the standard deviation is 1(or the variance).\n",
    "+ x_scaled = x – mean/std_dev\n",
    "+ However, Standard Scaler assumes that the distribution of the variable is normal. Thus, in case, the variables are not normally distributed, we either choose a different scaler or first, convert the variables to a normal distribution and then apply this scaler"
   ]
  },
  {
   "cell_type": "code",
   "execution_count": null,
   "id": "79f2125a",
   "metadata": {},
   "outputs": [],
   "source": [
    "from sklearn.preprocessing import StandardScaler\n",
    "\n",
    "df_standard_scaled = df.copy()\n",
    "column_name= ['balance','age','duration']\n",
    "features = df_standard_scaled[column_name]\n",
    "rest = [columns for columns in df.columns if columns not in column_name]\n",
    "\n",
    "scaler = StandardScaler().fit(features.values)\n",
    "features = scaler.transform(features.values)\n",
    "df_standard_scaled = pd.DataFrame(features, columns = column_name)\n",
    "df_standard_scaled[rest] = df[rest]\n",
    "df_standard_scaled.head()"
   ]
  },
  {
   "cell_type": "markdown",
   "id": "b5492d7f",
   "metadata": {},
   "source": [
    "### 6. Feature Selection<a class=\"anchor\" id=\"6\"></a>\n",
    "####  Recursive Feature Elimination\n",
    "##### For feature selection, we wil use the Recursive Feature Elimination (RFE)."
   ]
  },
  {
   "cell_type": "markdown",
   "id": "d84c4ce5",
   "metadata": {},
   "source": [
    "#### We will split our data. 80% of our data will be train data and 20% of it will be test data."
   ]
  },
  {
   "cell_type": "code",
   "execution_count": null,
   "id": "0bc3e12c",
   "metadata": {},
   "outputs": [],
   "source": [
    "x = df_standard_scaled.drop('y', 1)\n",
    "y = df_standard_scaled['y']"
   ]
  },
  {
   "cell_type": "code",
   "execution_count": null,
   "id": "a0ba7bdb",
   "metadata": {},
   "outputs": [],
   "source": [
    "x_train, x_test, y_train, y_test = train_test_split(x,y,test_size = 0.2,random_state=0)"
   ]
  },
  {
   "cell_type": "code",
   "execution_count": null,
   "id": "27dd683c",
   "metadata": {},
   "outputs": [],
   "source": [
    "print(\"Shape of X_train: \",x_train.shape)\n",
    "print(\"Shape of X_test: \", x_test.shape)\n",
    "print(\"Shape of y_train: \",y_train.shape)\n",
    "print(\"Shape of y_test\",y_test.shape)"
   ]
  },
  {
   "cell_type": "code",
   "execution_count": null,
   "id": "3d499120",
   "metadata": {},
   "outputs": [],
   "source": [
    "# Recursive Feature Elimination\n",
    "from sklearn.feature_selection import RFE"
   ]
  },
  {
   "cell_type": "code",
   "execution_count": null,
   "id": "0cb6a2a1",
   "metadata": {},
   "outputs": [],
   "source": [
    "# Model to Test\n",
    "classifier = LogisticRegression()\n",
    "\n",
    "# Select Best X Features\n",
    "rfe = RFE(classifier,n_features_to_select=15)\n",
    "rfe = rfe.fit(x_train, y_train)"
   ]
  },
  {
   "cell_type": "code",
   "execution_count": null,
   "id": "7c73435f",
   "metadata": {},
   "outputs": [],
   "source": [
    "# summarize the selection of the attributes\n",
    "print(rfe.support_)\n",
    "print(rfe.ranking_)"
   ]
  },
  {
   "cell_type": "code",
   "execution_count": null,
   "id": "fe79e3e7",
   "metadata": {},
   "outputs": [],
   "source": [
    "list(zip(x_train.columns,rfe.support_,rfe.ranking_))"
   ]
  },
  {
   "cell_type": "code",
   "execution_count": null,
   "id": "c71698e1",
   "metadata": {},
   "outputs": [],
   "source": [
    "x_train.columns[rfe.support_]"
   ]
  },
  {
   "cell_type": "code",
   "execution_count": null,
   "id": "18f5a375",
   "metadata": {},
   "outputs": [],
   "source": [
    "x_train.columns[~rfe.support_]"
   ]
  },
  {
   "cell_type": "code",
   "execution_count": null,
   "id": "06c560d5",
   "metadata": {},
   "outputs": [],
   "source": [
    "import statsmodels.api as sm"
   ]
  },
  {
   "cell_type": "code",
   "execution_count": null,
   "id": "731158e6",
   "metadata": {},
   "outputs": [],
   "source": [
    "col1 = x_train.columns[rfe.support_]\n",
    "x_train_sm = sm.add_constant(x_train[col1])\n",
    "logm1 = sm.GLM(y_train,x_train_sm, family=sm.families.Binomial())\n",
    "res = logm1.fit()\n",
    "res.summary()"
   ]
  },
  {
   "cell_type": "markdown",
   "id": "03400e2f",
   "metadata": {},
   "source": [
    "#### We can see that none of the variables here have high p-values i.e. greater than 0.05. So there is do not need to drop any of the features before moving ahead"
   ]
  },
  {
   "cell_type": "code",
   "execution_count": null,
   "id": "1ab278a4",
   "metadata": {},
   "outputs": [],
   "source": [
    "# predicted values of the train dataset giving the probability\n",
    "x_test_sm = sm.add_constant(x_test[col1])\n",
    "y_test_pred = res.predict(x_test_sm)\n",
    "y_test_pred[:10]"
   ]
  },
  {
   "cell_type": "code",
   "execution_count": null,
   "id": "4cb8e62d",
   "metadata": {},
   "outputs": [],
   "source": [
    "y_test_pred = y_test_pred.values.reshape(-1)\n",
    "y_test_pred[:10]"
   ]
  },
  {
   "cell_type": "markdown",
   "id": "e3051f7f",
   "metadata": {},
   "source": [
    "#### Creating the dataframe with the actual subscription flag and the predicted probabilities"
   ]
  },
  {
   "cell_type": "code",
   "execution_count": null,
   "id": "5be8af89",
   "metadata": {},
   "outputs": [],
   "source": [
    "y_test_pred_final = pd.DataFrame({'Sub':y_test.values,'Sub_prob':y_test_pred})\n",
    "y_test_pred_final['Cust_id'] = y_test.index\n",
    "y_test_pred_final.head(10)"
   ]
  },
  {
   "cell_type": "markdown",
   "id": "441c57c3",
   "metadata": {},
   "source": [
    "#### Creating new column 'predict' with 1 if Sub_prob > 0.5 else 0"
   ]
  },
  {
   "cell_type": "code",
   "execution_count": null,
   "id": "7139cddc",
   "metadata": {},
   "outputs": [],
   "source": [
    "y_test_pred_final['predict'] = y_test_pred_final['Sub_prob'].map(lambda x: 1 if x>0.5 else 0)\n",
    "y_train_pred_final.head(10)"
   ]
  },
  {
   "cell_type": "code",
   "execution_count": null,
   "id": "eebc94c8",
   "metadata": {},
   "outputs": [],
   "source": [
    "# creating confusion matrix for the following prediction\n",
    "confusion = cm(y_test_pred_final.Sub, y_test_pred_final.predict)\n",
    "confusion"
   ]
  },
  {
   "cell_type": "code",
   "execution_count": null,
   "id": "01b55017",
   "metadata": {},
   "outputs": [],
   "source": [
    "print(ac(y_test_pred_final.Sub, y_test_pred_final.predict))"
   ]
  },
  {
   "cell_type": "markdown",
   "id": "3e24b5fd",
   "metadata": {},
   "source": [
    "#### The accuracy of the model is approximately 90% which is a really good model for prediction"
   ]
  },
  {
   "cell_type": "code",
   "execution_count": null,
   "id": "d844da98",
   "metadata": {},
   "outputs": [],
   "source": [
    "# print the classification report\n",
    "print('After Feature Selection','\\n',report(y_test_pred_final.Sub, y_test_pred_final.predict))"
   ]
  },
  {
   "cell_type": "code",
   "execution_count": null,
   "id": "a1092d2a",
   "metadata": {},
   "outputs": [],
   "source": [
    "def draw_roc(actual,probs):\n",
    "    fpr, tpr, thresholds = roc_curve(actual, probs, drop_intermediate=False)\n",
    "    auc_score = roc_auc_score(actual, probs)\n",
    "    plt.figure(figsize=(5,5))\n",
    "    plt.plot(fpr, tpr, label='ROC curve (area = %0.2f)' % auc_score)\n",
    "    plt.plot([0,1],[0,1],'k--')\n",
    "    plt.xlim([0.0,1.0])\n",
    "    plt.ylim([0.0,1.05])\n",
    "    plt.xlabel('False Positive Rate or [1 - True Negative Rate]')\n",
    "    plt.ylabel('True Positive Rate')\n",
    "    plt.title('Reciever operating characterstic example')\n",
    "    plt.legend(loc='lower right')\n",
    "    plt.show()\n",
    "    \n",
    "    return None"
   ]
  },
  {
   "cell_type": "code",
   "execution_count": null,
   "id": "d5865a77",
   "metadata": {},
   "outputs": [],
   "source": [
    "fpr, tpr, thresholds = roc_curve(y_test_pred_final.Sub, y_test_pred_final.Sub_prob,drop_intermediate=False)"
   ]
  },
  {
   "cell_type": "code",
   "execution_count": null,
   "id": "44545519",
   "metadata": {},
   "outputs": [],
   "source": [
    "draw_roc(y_test_pred_final.Sub, y_test_pred_final.Sub_prob)"
   ]
  },
  {
   "cell_type": "code",
   "execution_count": null,
   "id": "b7420d4f",
   "metadata": {},
   "outputs": [],
   "source": [
    "# New Correlation Matrix\n",
    "sns.set(style=\"white\")\n",
    "\n",
    "# Compute the correlation matrix\n",
    "corr = x_train[x_train.columns[rfe.support_]].corr()\n",
    "\n",
    "# Generate a mask for the upper triangle\n",
    "mask = np.zeros_like(corr, dtype=np.bool)\n",
    "mask[np.triu_indices_from(mask)] = True\n",
    "\n",
    "# Set up the matplotlib figure\n",
    "f, ax = plt.subplots(figsize=(18, 15))\n",
    "\n",
    "# Generate a custom diverging colormap\n",
    "cmap = sns.diverging_palette(220, 10, as_cmap=True)\n",
    "\n",
    "# Draw the heatmap with the mask and correct aspect ratio\n",
    "sns.heatmap(corr, mask=mask, cmap=cmap, vmax=.3, center=0,\n",
    "            square=True, linewidths=.5, cbar_kws={\"shrink\": .5}) "
   ]
  },
  {
   "cell_type": "markdown",
   "id": "b1477c98",
   "metadata": {},
   "source": [
    "### 7. Machine Learning: Classification <a class=\"anchor\" id=\"7\"></a>"
   ]
  },
  {
   "cell_type": "markdown",
   "id": "d165cde1",
   "metadata": {},
   "source": [
    "### 7.1 Sklearn Logistic Regression and Accuracy<a class=\"anchor\" id=\"7.1\"></a>"
   ]
  },
  {
   "cell_type": "code",
   "execution_count": null,
   "id": "2b2300ef",
   "metadata": {},
   "outputs": [],
   "source": [
    "accuracy = {}\n",
    "\n",
    "feature_selection = LogisticRegression()\n",
    "feature_selection.fit(x_train[x_train.columns[rfe.support_]], y_train)\n",
    "ACC = feature_selection.score(x_test[x_test.columns[rfe.support_]],y_test)*100\n",
    "\n",
    "accuracy['Logistic Regression after Feature Selection'] = ACC\n",
    "print(\"Test Accuracy {:.2f}%\".format(ACC))"
   ]
  },
  {
   "cell_type": "markdown",
   "id": "4b12bb7a",
   "metadata": {},
   "source": [
    "#### Accuracy on the Feature Selected features have 89.89% Accuracy which is still better as we have eliminated some of the features"
   ]
  },
  {
   "cell_type": "code",
   "execution_count": null,
   "id": "96bfe187",
   "metadata": {},
   "outputs": [],
   "source": [
    "accuracies = {}\n",
    "\n",
    "lr = LogisticRegression()\n",
    "lr.fit(x_train, y_train)\n",
    "acc = lr.score(x_test,y_test)*100\n",
    "\n",
    "accuracies['Logistic Regression'] = acc\n",
    "print(\"Test Accuracy {:.2f}%\".format(acc))"
   ]
  },
  {
   "cell_type": "markdown",
   "id": "86eead15",
   "metadata": {},
   "source": [
    "#### Accuracy on all the features is approximately same as we have got for the feature selection features"
   ]
  },
  {
   "cell_type": "code",
   "execution_count": null,
   "id": "f06bfa99",
   "metadata": {},
   "outputs": [],
   "source": [
    "# IMPORTANT: first argument is true values, second argument is predicted values\n",
    "# this produces a 2x2 numpy array (matrix)\n",
    "\n",
    "#Predictions\n",
    "y_predict = lr.predict(x_test)\n",
    "y_pred = feature_selection.predict(x_test[x_test.columns[rfe.support_]])\n",
    "\n",
    "print('Without Feature Selection','\\n', cm(y_test, y_predict))\n",
    "print('After Feature Selection','\\n', cm(y_test, y_pred))"
   ]
  },
  {
   "cell_type": "code",
   "execution_count": null,
   "id": "47764ad4",
   "metadata": {},
   "outputs": [],
   "source": [
    "# print the classification report\n",
    "\n",
    "print('Without Feature Selection','\\n',report(y_test, y_predict))\n",
    "print('After Feature Selection','\\n',report(y_test, y_pred))"
   ]
  },
  {
   "cell_type": "code",
   "execution_count": null,
   "id": "1274e41b",
   "metadata": {},
   "outputs": [],
   "source": [
    "# ROC Curve plotting and finding AUC value\n",
    "fpr,tpr,thresholds=roc_curve(y_t,feature_selection.predict_proba(x)[:,1])\n",
    "plt.plot(fpr,tpr,color='red')\n",
    "auc=roc_auc_score(y,y_pred)\n",
    "\n",
    "plt.plot(fpr,tpr,color='red',label='logit model(area  = %0.2f)'%auc)\n",
    "plt.plot([0,1],[0,1],'k--')\n",
    "plt.xlabel('False Positive Rate or [1 - True Negative Rate]')\n",
    "plt.ylabel('True Positive Rate')\n",
    "plt.show()\n",
    "\n",
    "print('auc accuracy:',auc)"
   ]
  },
  {
   "cell_type": "code",
   "execution_count": null,
   "id": "054fa86b",
   "metadata": {},
   "outputs": [],
   "source": [
    "# As accuracy = 0.8933, which is greater than 0.5; Thus [:,1] Threshold value>0.5=1 else [:,0] Threshold value<0.5=0 \n",
    "lr.predict_proba(x)[:,1] "
   ]
  },
  {
   "cell_type": "markdown",
   "id": "9efd4975",
   "metadata": {},
   "source": [
    "### Compare the train-set and test-set accuracy \n",
    "Now, I will compare the train-set and test-set accuracy to check for overfitting."
   ]
  },
  {
   "cell_type": "markdown",
   "id": "88076459",
   "metadata": {},
   "source": [
    "#### Check for overfitting and underfitting \n"
   ]
  },
  {
   "cell_type": "code",
   "execution_count": null,
   "id": "fe664e1e",
   "metadata": {},
   "outputs": [],
   "source": [
    "# print the scores on training and test set\n",
    "\n",
    "print('Training set score: {:.2f}%'.format(lr.score(x_train, y_train)*100))\n",
    "\n",
    "print('Test set score: {:.2f}%'.format(lr.score(x_test, y_test)*100))"
   ]
  },
  {
   "cell_type": "markdown",
   "id": "6298874a",
   "metadata": {},
   "source": [
    "The training-set accuracy score is 89.71% while the test-set accuracy to be 89.22% These two values are quite comparable. So, there is no question of overfitting"
   ]
  },
  {
   "cell_type": "markdown",
   "id": "8bd89919",
   "metadata": {},
   "source": [
    "### Compare model accuracy with null accuracy \n",
    "So, the model accuracy is 89.71%. But, we cannot say that our model is very good based on the above accuracy. We must compare it with the null accuracy. Null accuracy is the accuracy that could be achieved by always predicting the most frequent class.\n",
    "\n",
    "So, we should first check the class distribution in the test set."
   ]
  },
  {
   "cell_type": "code",
   "execution_count": null,
   "id": "047afbcc",
   "metadata": {},
   "outputs": [],
   "source": [
    "# check class distribution in test set\n",
    "\n",
    "y_test.value_counts()"
   ]
  },
  {
   "cell_type": "markdown",
   "id": "db4c59a1",
   "metadata": {},
   "source": [
    "calculate the percentage of ones\n",
    "because y_test only contains ones and zeros, we can simply calculate the mean = percentage of ones"
   ]
  },
  {
   "cell_type": "code",
   "execution_count": null,
   "id": "51791b90",
   "metadata": {},
   "outputs": [],
   "source": [
    "print(\"Mean of 1's\",y_test.mean(),\"\\n Percentage of 1's\",np.round(y_test.mean(),2)*100,'%')"
   ]
  },
  {
   "cell_type": "code",
   "execution_count": null,
   "id": "0d12b7c2",
   "metadata": {},
   "outputs": [],
   "source": [
    "# calculate the percentage of zeros\n",
    "print(\"Mean of 0's\",1-y_test.mean(),\"\\n Percentage of 0's\",np.round(1-y_test.mean(),2)*100,'%')"
   ]
  },
  {
   "cell_type": "code",
   "execution_count": null,
   "id": "a16a2fee",
   "metadata": {},
   "outputs": [],
   "source": [
    "# calculate null accuracy \n",
    "y_test.value_counts().head(1) / len(y_test)"
   ]
  },
  {
   "cell_type": "markdown",
   "id": "713bc880",
   "metadata": {},
   "source": [
    "<b> Conclusion:\n",
    "\n",
    "+ Classification accuracy is the easiest classification metric to understand\n",
    "    + But, it does not tell you the underlying distribution of response values\n",
    "+ We examine by calculating the null accuracy And, it does not tell you what \"types\" of errors your classifier is making"
   ]
  },
  {
   "cell_type": "code",
   "execution_count": null,
   "id": "aeb495ca",
   "metadata": {},
   "outputs": [],
   "source": [
    "# IMPORTANT: first argument is true values, second argument is predicted values\n",
    "# this produces a 2x2 numpy array (matrix)\n",
    "\n",
    "#Predictions\n",
    "y_predict = lr.predict(x_test)\n",
    "\n",
    "print(cm(y_test, y_predict))"
   ]
  },
  {
   "cell_type": "code",
   "execution_count": null,
   "id": "0e0adfe6",
   "metadata": {},
   "outputs": [],
   "source": [
    "# plot confusion matrix to describe the performance of classifier.\n",
    "\n",
    "cm_df=cm(y_test, y_predict)\n",
    "class_label = [\"No\", \"Yes\"]\n",
    "df_cm = pd.DataFrame(cm_df, index = class_label, columns = class_label)\n",
    "sns.heatmap(df_cm, annot = True, fmt = \"d\")\n",
    "plt.title(\"Confusion Matrix\")\n",
    "plt.xlabel(\"Predicted Label\")\n",
    "plt.ylabel(\"Actual Label\")\n",
    "plt.show()"
   ]
  },
  {
   "cell_type": "code",
   "execution_count": null,
   "id": "0aec6820",
   "metadata": {},
   "outputs": [],
   "source": [
    "y_predict = lr.predict(x)\n",
    "\n",
    "print(cm(y, y_predict))"
   ]
  },
  {
   "cell_type": "code",
   "execution_count": null,
   "id": "48497a0d",
   "metadata": {},
   "outputs": [],
   "source": [
    "# plot confusion matrix to describe the performance of classifier.\n",
    "\n",
    "cm_df=cm(y, y_predict)\n",
    "class_label = [\"No\", \"Yes\"]\n",
    "df_cm = pd.DataFrame(cm_df, index = class_label, columns = class_label)\n",
    "sns.heatmap(df_cm, annot = True, fmt = \"d\")\n",
    "plt.title(\"Confusion Matrix\")\n",
    "plt.xlabel(\"Predicted Label\")\n",
    "plt.ylabel(\"Actual Label\")\n",
    "plt.show()"
   ]
  },
  {
   "cell_type": "code",
   "execution_count": null,
   "id": "8bf3969b",
   "metadata": {},
   "outputs": [],
   "source": [
    "# save confusion matrix and slice into four pieces\n",
    "confusion = cm(y_test, y_predict)\n",
    "print(confusion)\n",
    "#[row, column]\n",
    "TP = confusion[1, 1]\n",
    "TN = confusion[0, 0]\n",
    "FP = confusion[0, 1]\n",
    "FN = confusion[1, 0]"
   ]
  },
  {
   "cell_type": "markdown",
   "id": "8b32708f",
   "metadata": {},
   "source": [
    "### Metrics computed from a confusion matrix\n",
    "Classification Accuracy: Overall, how often is the classifier correct?"
   ]
  },
  {
   "cell_type": "code",
   "execution_count": null,
   "id": "82694f17",
   "metadata": {},
   "outputs": [],
   "source": [
    "# use float to perform true division, not integer division\n",
    "print((TP + TN) / float(TP + TN + FP + FN))\n",
    "print(ac(y_test, y_predict))"
   ]
  },
  {
   "cell_type": "markdown",
   "id": "d9e1b5e7",
   "metadata": {},
   "source": [
    "### Classification Error: Overall, how often is the classifier incorrect?\n",
    "\n",
    "Also known as \"Misclassification Rate\""
   ]
  },
  {
   "cell_type": "code",
   "execution_count": null,
   "id": "204e572c",
   "metadata": {},
   "outputs": [],
   "source": [
    "classification_error = (FP + FN) / float(TP + TN + FP + FN)\n",
    "\n",
    "print(classification_error)\n",
    "print(1 - ac(y_test, y_predict))"
   ]
  },
  {
   "cell_type": "markdown",
   "id": "7ce2c760",
   "metadata": {},
   "source": [
    "<b>Recall</b>: When the actual value is positive, how often is the prediction correct?\n",
    "\n",
    "+ Something we want to maximize\n",
    "+ How \"sensitive\" is the classifier to detecting positive instances?\n",
    "+ Also known as \"True Positive Rate\" or \"Sensitivity\"\n",
    "+ TP / all positive\n",
    "    + all positive = TP + FN"
   ]
  },
  {
   "cell_type": "code",
   "execution_count": null,
   "id": "77f447f4",
   "metadata": {},
   "outputs": [],
   "source": [
    "recall = TP / float(FN + TP)\n",
    "\n",
    "print(recall)\n",
    "print(recall_score(y_test, y_predict))"
   ]
  },
  {
   "cell_type": "markdown",
   "id": "5ff347cd",
   "metadata": {},
   "source": [
    "<b>Specificity</b>: When the actual value is negative, how often is the prediction correct?\n",
    "\n",
    "+ Something we want to maximize\n",
    "+ How \"specific\" (or \"selective\") is the classifier in predicting positive instances?\n",
    "+ TN / all negative\n",
    "    + all negative = TN + FP"
   ]
  },
  {
   "cell_type": "code",
   "execution_count": null,
   "id": "174f5222",
   "metadata": {},
   "outputs": [],
   "source": [
    "specificity = TN / (TN + FP)\n",
    "\n",
    "print(specificity)"
   ]
  },
  {
   "cell_type": "markdown",
   "id": "cb76e037",
   "metadata": {},
   "source": [
    "Our classifier\n",
    "\n",
    "+ Highly specific\n",
    "+ Not sensitive"
   ]
  },
  {
   "cell_type": "markdown",
   "id": "e9c3d432",
   "metadata": {},
   "source": [
    "<b>False Positive Rate</b>: When the actual value is negative, how often is the prediction incorrect?"
   ]
  },
  {
   "cell_type": "code",
   "execution_count": null,
   "id": "89b3a5ef",
   "metadata": {},
   "outputs": [],
   "source": [
    "false_positive_rate = FP / float(TN + FP)\n",
    "\n",
    "print(false_positive_rate)\n",
    "print(1 - specificity)"
   ]
  },
  {
   "cell_type": "markdown",
   "id": "33cd574b",
   "metadata": {},
   "source": [
    "<b>Precision</b>: When a positive value is predicted, how often is the prediction correct?\n",
    "\n",
    "+ How \"precise\" is the classifier when predicting positive instances?"
   ]
  },
  {
   "cell_type": "code",
   "execution_count": null,
   "id": "faef0023",
   "metadata": {},
   "outputs": [],
   "source": [
    "precision = TP / float(TP + FP)\n",
    "\n",
    "print(precision)\n",
    "print(precision_score(y_test, y_predict))"
   ]
  },
  {
   "cell_type": "markdown",
   "id": "9e522c64",
   "metadata": {},
   "source": [
    "<b>f1-score \n",
    "    \n",
    "+ f1-score is the weighted harmonic mean of precision and recall. The best possible f1-score would be 1.0 and the worst would be 0.0. f1-score is the harmonic mean of precision and recall. So, f1-score is always lower than accuracy measures as they embed precision and recall into their computation. The weighted average of f1-score should be used to compare classifier models, not global accuracy."
   ]
  },
  {
   "cell_type": "code",
   "execution_count": null,
   "id": "191ef9ea",
   "metadata": {},
   "outputs": [],
   "source": [
    "f1_score = 2*((precision_score(y_test, y_predict) * recall_score(y_test, y_predict))/(precision_score(y_test, y_predict) + recall_score(y_test, y_predict)))\n",
    "f1_score"
   ]
  },
  {
   "cell_type": "markdown",
   "id": "cb9cf5ae",
   "metadata": {},
   "source": [
    "### The threshold level "
   ]
  },
  {
   "cell_type": "code",
   "execution_count": null,
   "id": "c856c7c0",
   "metadata": {},
   "outputs": [],
   "source": [
    "# print the first 10 predicted probabilities of two classes- 0 and 1\n",
    "\n",
    "y_pred_prob = lr.predict_proba(x_test)[0:10]\n",
    "\n",
    "y_pred_prob"
   ]
  },
  {
   "cell_type": "code",
   "execution_count": null,
   "id": "f4554470",
   "metadata": {},
   "outputs": [],
   "source": [
    "# store the predicted probabilities for class 1 - Probability of Subscription\n",
    "\n",
    "y_pred1 = lr.predict_proba(x_test)[:, 1]\n",
    "# plot histogram of predicted probabilities\n",
    "\n",
    "\n",
    "# adjust the font size \n",
    "plt.rcParams['font.size'] = 12\n",
    "\n",
    "\n",
    "# plot histogram with 10 bins\n",
    "plt.hist(y_pred1, bins = 10)\n",
    "\n",
    "\n",
    "# set the title of predicted probabilities\n",
    "plt.title('Histogram of predicted probabilities of Subscription')\n",
    "\n",
    "\n",
    "# set the x-axis limit\n",
    "plt.xlim(0,1)\n",
    "\n",
    "\n",
    "# set the title\n",
    "plt.xlabel('Predicted probabilities of Subscription')\n",
    "plt.ylabel('Frequency')"
   ]
  },
  {
   "cell_type": "markdown",
   "id": "28fc0528",
   "metadata": {},
   "source": [
    "<b>Observations\n",
    "+ We can see that the above histogram is highly positive skewed.\n",
    "+ The first column tell us that there are approximately 6000 observations with probability between 0.0 and 0.1.\n",
    "+ There are small number of observations with probability > 0.5.\n",
    "+ So, these small number of observations predict that there will be a Subscription.\n",
    "+ Majority of observations predict that there will be no Subscription."
   ]
  },
  {
   "cell_type": "markdown",
   "id": "a84245a2",
   "metadata": {},
   "source": [
    "### 7.3 Lower the Threshold<a class=\"anchor\" id=\"7.3\"></a>"
   ]
  },
  {
   "cell_type": "code",
   "execution_count": null,
   "id": "f3eb1609",
   "metadata": {},
   "outputs": [],
   "source": [
    "from sklearn.preprocessing import binarize\n",
    "\n",
    "for i in range(1,5):\n",
    "    \n",
    "    cm1=0\n",
    "    \n",
    "    y_pred1 = lr.predict_proba(x_test)[:,1]\n",
    "    \n",
    "    y_pred1 = y_pred1.reshape(-1,1)\n",
    "    \n",
    "    y_pred2 = binarize(y_pred1, threshold=i/10)\n",
    "       \n",
    "    cm1 = cm(y_test, y_pred2)\n",
    "        \n",
    "    print ('With',i/10,'threshold the Confusion Matrix is ','\\n\\n',cm1,'\\n\\n',\n",
    "           \n",
    "            'with',cm1[0,0]+cm1[1,1],'correct predictions, ', '\\n\\n', \n",
    "           \n",
    "            cm1[0,1],'Type I errors( False Positives), ','\\n\\n',\n",
    "           \n",
    "            cm1[1,0],'Type II errors( False Negatives), ','\\n\\n',\n",
    "           \n",
    "               'Accuracy score: ', (ac(y_test, y_pred2)), '\\n\\n',\n",
    "           \n",
    "               'Sensitivity: ',cm1[1,1]/(float(cm1[1,1]+cm1[1,0])), '\\n\\n',\n",
    "           \n",
    "               'Specificity: ',cm1[0,0]/(float(cm1[0,0]+cm1[0,1])),'\\n\\n',\n",
    "          \n",
    "                '====================================================', '\\n\\n')"
   ]
  },
  {
   "cell_type": "markdown",
   "id": "8f559e6f",
   "metadata": {},
   "source": [
    "### 7.4 ROC - AUC <a class=\"anchor\" id=\"7.4\"></a>\n",
    "#### ROC Curve\n",
    "Another tool to measure the classification model performance visually is ROC Curve. ROC Curve stands for Receiver Operating Characteristic Curve. An ROC Curve is a plot which shows the performance of a classification model at various classification threshold levels.\n",
    "\n",
    "The ROC Curve plots the True Positive Rate (TPR) against the False Positive Rate (FPR) at various threshold levels.\n",
    "\n",
    "True Positive Rate (TPR) is also called Recall. It is defined as the ratio of TP to (TP + FN).\n",
    "\n",
    "False Positive Rate (FPR) is defined as the ratio of FP to (FP + TN).\n",
    "\n",
    "In the ROC Curve, we will focus on the TPR (True Positive Rate) and FPR (False Positive Rate) of a single point. This will give us the general performance of the ROC curve which consists of the TPR and FPR at various threshold levels. So, an ROC Curve plots TPR vs FPR at different classification threshold levels. If we lower the threshold levels, it may result in more items being classified as positve. It will increase both True Positives (TP) and False Positives (FP)."
   ]
  },
  {
   "cell_type": "code",
   "execution_count": null,
   "id": "bdb1c454",
   "metadata": {},
   "outputs": [],
   "source": [
    "# ROC Curve plotting and finding AUC value\n",
    "fpr,tpr,thresholds=roc_curve(y,lr.predict_proba(x)[:,1])\n",
    "plt.plot(fpr,tpr,color='red')\n",
    "auc=roc_auc_score(y_test,y_predict)\n",
    "\n",
    "plt.plot(fpr,tpr,color='red',label='logit model(area  = %0.2f)'%auc)\n",
    "plt.plot([0,1],[0,1],'k--')\n",
    "plt.title('ROC curve for Subscription classifier')\n",
    "plt.xlabel('False Positive Rate or [1 - True Negative Rate]')\n",
    "plt.ylabel('True Positive Rate')\n",
    "plt.show()\n",
    "\n",
    "print('AUC-ROC Score:',auc)"
   ]
  },
  {
   "cell_type": "markdown",
   "id": "53b06d35",
   "metadata": {},
   "source": [
    "### ROC AUC Score\n",
    "ROC AUC stands for Receiver Operating Characteristic - Area Under Curve. It is a technique to compare classifier performance. In this technique, we measure the area under the curve (AUC). A perfect classifier will have a ROC AUC equal to 1, whereas a purely random classifier will have a ROC AUC equal to 0.5.\n",
    "\n",
    "So, ROC AUC is the percentage of the ROC plot that is underneath the curve."
   ]
  },
  {
   "cell_type": "code",
   "execution_count": null,
   "id": "63626f5d",
   "metadata": {},
   "outputs": [],
   "source": [
    "from sklearn.metrics import roc_auc_score\n",
    "curve = roc_auc_score(y_test, y_predict)\n",
    "print(curve)"
   ]
  },
  {
   "cell_type": "markdown",
   "id": "4b3b4a34",
   "metadata": {},
   "source": [
    "<b>Comments\n",
    "+ ROC AUC is a single number summary of classifier performance. The higher the value, the better the classifier.\n",
    "\n",
    "+ ROC AUC of our model approaches towards 0.5. So, we can conclude that our classifier doesn't do a good job in predicting whether it will subscription or not."
   ]
  },
  {
   "cell_type": "markdown",
   "id": "29eaabb0",
   "metadata": {},
   "source": [
    "### 7.5 Finding the Optimcal Threshold Value<a class=\"anchor\" id=\"7.5\"></a>"
   ]
  },
  {
   "cell_type": "code",
   "execution_count": null,
   "id": "fe43cbdb",
   "metadata": {
    "scrolled": false
   },
   "outputs": [],
   "source": [
    "final_prediction = lr.predict_proba(x)[:,1]\n",
    "fpr,tpr,thresholds=roc_curve(y,lr.predict_proba(x)[:,1])\n",
    "\n",
    "accuracy_ls = []\n",
    "for thres in thresholds:\n",
    "    y_pred = np.where(final_prediction>thres,1,0)\n",
    "    accuracy_ls.append(ac(y, y_pred, normalize=True))\n",
    "    \n",
    "accuracy_ls = pd.concat([pd.Series(thresholds), pd.Series(accuracy_ls)],axis=1)\n",
    "accuracy_ls.columns = ['thresholds', 'accuracy']\n",
    "accuracy_ls.sort_values(by='accuracy', ascending=False, inplace=True)\n",
    "accuracy_ls.head()"
   ]
  },
  {
   "cell_type": "markdown",
   "id": "8540e27e",
   "metadata": {},
   "source": [
    "If this was a use case for balaced dataset we would have gone with accuracy to select the optimal threshold value, otherwise it depends when data is imbalanced sometimes recall is more important than precision and sometimes the other way around and sometimes both are more important then we will go with F1-Score to select the optimal threshold value."
   ]
  },
  {
   "cell_type": "code",
   "execution_count": null,
   "id": "c26cb461",
   "metadata": {},
   "outputs": [],
   "source": [
    "final_prediction = lr.predict_proba(x)[:,1]\n",
    "fpr,tpr,thresholds=roc_curve(y,lr.predict_proba(x)[:,1])\n",
    "\n",
    "f1_score_ls = []\n",
    "for thres in thresholds:\n",
    "    y_pred = np.where(final_prediction>thres,1,0)\n",
    "    f1_score_ls.append(f1_score(y, y_pred))\n",
    "    \n",
    "f1_score_ls = pd.concat([pd.Series(thresholds), pd.Series(f1_score_ls)],axis=1)\n",
    "f1_score_ls.columns = ['thresholds', 'f1_score']\n",
    "f1_score_ls.sort_values(by='f1_score', ascending=False, inplace=True)\n",
    "f1_score_ls.head()"
   ]
  },
  {
   "cell_type": "markdown",
   "id": "88b9fe42",
   "metadata": {},
   "source": [
    "### 7.6 Classification Report<a class=\"anchor\" id=\"7.6\"></a>"
   ]
  },
  {
   "cell_type": "code",
   "execution_count": null,
   "id": "fe032ac4",
   "metadata": {},
   "outputs": [],
   "source": [
    "# print the classification report\n",
    "\n",
    "print(report(y_test, y_predict))"
   ]
  },
  {
   "cell_type": "markdown",
   "id": "827f297b",
   "metadata": {},
   "source": [
    "### 7.7 Predictions<a class=\"anchor\" id=\"7.7\"></a>"
   ]
  },
  {
   "cell_type": "code",
   "execution_count": null,
   "id": "3e5f2acc",
   "metadata": {
    "scrolled": true
   },
   "outputs": [],
   "source": [
    "#Predictions\n",
    "y_pred = lr.predict(x)\n",
    "\n",
    "# Creating a datframe to with actual value and predicted value\n",
    "\n",
    "predict = pd.DataFrame({'Actual':y,'Predicted':y_pred})\n",
    "predict"
   ]
  },
  {
   "cell_type": "markdown",
   "id": "af2f2222",
   "metadata": {},
   "source": [
    "### 8. Synthetic Minority Oversampling Technique <a class=\"anchor\" id=\"8\"></a>\n",
    "A problem with imbalanced classification is that there are too few examples of the minority class for a model to effectively learn the decision boundary.\n",
    "\n",
    "One way to solve this problem is to oversample the examples in the minority class. This can be achieved by simply duplicating examples from the minority class in the training dataset prior to fitting a model. This can balance the class distribution but does not provide any additional information to the model.\n",
    "\n",
    "An improvement on duplicating examples from the minority class is to synthesize new examples from the minority class. This is a type of data augmentation for tabular data and can be very effective.\n",
    "\n",
    "Perhaps the most widely used approach to synthesizing new examples is called the Synthetic Minority Oversampling TEchnique, or SMOTE for short"
   ]
  },
  {
   "cell_type": "code",
   "execution_count": null,
   "id": "b72e92c9",
   "metadata": {},
   "outputs": [],
   "source": [
    "# import imblearn library and resample the original data using SMOTE technique\n",
    "from sklearn.neighbors import DistanceMetric\n",
    "from imblearn.over_sampling import SMOTE\n",
    "from collections import Counter\n",
    "\n",
    "smote = SMOTE(random_state=42)\n",
    "X_smote, y_smote = smote.fit_resample(x_train, y_train)\n",
    "print('Original dataset shape %s' % Counter(y_train))\n",
    "print('Resampled dataset shape %s' % Counter(y_smote))"
   ]
  },
  {
   "cell_type": "code",
   "execution_count": null,
   "id": "36bab8eb",
   "metadata": {},
   "outputs": [],
   "source": [
    "# training a Logistic Regression model on SMOTE data\n",
    "\n",
    "lr_smote = LogisticRegression()\n",
    "lr_smote.fit(X_smote, y_smote)"
   ]
  },
  {
   "cell_type": "code",
   "execution_count": null,
   "id": "15c8ab2b",
   "metadata": {},
   "outputs": [],
   "source": [
    "accuracies = {}\n",
    "\n",
    "acc = lr_smote.score(x_test,y_test)*100\n",
    "\n",
    "accuracies['Logistic Regression'] = acc\n",
    "print(\"Test Accuracy {:.2f}%\".format(acc))"
   ]
  },
  {
   "cell_type": "code",
   "execution_count": null,
   "id": "af7f2a38",
   "metadata": {},
   "outputs": [],
   "source": [
    "# plot confusion matrix to describe the performance of classifier.\n",
    "#Predictions\n",
    "y_predict_smote = lr_smote.predict(x_test)\n",
    "\n",
    "cm_df_smote=cm(y_test, y_predict_smote)\n",
    "class_label = [\"No\", \"Yes\"]\n",
    "df_cm_smote = pd.DataFrame(cm_df_smote, index = class_label, columns = class_label)\n",
    "sns.heatmap(df_cm_smote, annot = True, fmt = \"d\")\n",
    "plt.title(\"Confusion Matrix\")\n",
    "plt.xlabel(\"Predicted Label\")\n",
    "plt.ylabel(\"Actual Label\")\n",
    "plt.show()"
   ]
  },
  {
   "cell_type": "code",
   "execution_count": null,
   "id": "6220f00b",
   "metadata": {},
   "outputs": [],
   "source": [
    "# print the classification report\n",
    "\n",
    "print(report(y_test, y_predict_smote))"
   ]
  },
  {
   "cell_type": "code",
   "execution_count": null,
   "id": "a7ddf624",
   "metadata": {},
   "outputs": [],
   "source": [
    "# let's compute the AUC curve for the model we developed on SMOTE data\n",
    "\n",
    "from plot_metric.functions import BinaryClassification\n",
    "\n",
    "bc = BinaryClassification(y_test, lr_smote.predict_proba(x_test)[:,1],  labels=[0, 1])\n",
    "plt.figure(figsize=(16, 8))\n",
    "bc.plot_roc_curve()\n",
    "plt.show()"
   ]
  },
  {
   "cell_type": "code",
   "execution_count": null,
   "id": "a7c68c32",
   "metadata": {},
   "outputs": [],
   "source": [
    "# let's use another probability threshold so that we can get to the elbow position in the above curve\n",
    "\n",
    "bc = BinaryClassification(y_test, lr_smote.predict_proba(x_test)[:,1], threshold=0.4, labels=[0, 1])\n",
    "plt.figure(figsize=(16, 8))\n",
    "bc.plot_roc_curve()\n",
    "plt.show()"
   ]
  },
  {
   "cell_type": "code",
   "execution_count": null,
   "id": "cf50ae31",
   "metadata": {},
   "outputs": [],
   "source": [
    "# compute the probabilites of test observations using rf_smote model\n",
    "\n",
    "y_pred_proba = lr_smote.predict_proba(x_test)[:,1]\n",
    "# compare these probabilities against the probability threshold of 6% rather than the default threshold of 50%\n",
    "\n",
    "y_pred_labels = (y_pred_proba >= 0.4)\n",
    "# plot the confusion matrix\n",
    "\n",
    "sns.heatmap(cm(y_test, y_pred_labels), annot=True, fmt='0.0f')"
   ]
  },
  {
   "cell_type": "code",
   "execution_count": null,
   "id": "9d173d49",
   "metadata": {},
   "outputs": [],
   "source": [
    "# print the classification report\n",
    "\n",
    "print(report(y_test, y_pred_labels))"
   ]
  },
  {
   "cell_type": "markdown",
   "id": "1b44642e",
   "metadata": {},
   "source": [
    "## 9. Conclusion <a class=\"anchor\" id=\"9\"></a>\n",
    "<b>Key outcomes of the analysis are the recommendations for future marketing campaigns:</b>\n",
    "\n",
    "+ The customer's account balance has a huge influence on the campaign's outcome. People with account balance above 1490$ $ $  are more likely to subscribe for term deposit, so future address those customers.\n",
    "\n",
    "\n",
    "+ The customer's age affects campaign outcome as well. Future campains should concentrate on customers from age categories below 30 years old and above 50 years old.\n",
    "\n",
    "\n",
    "+ Number of contacts with the customer during the campaign is also very important. The number of contacts with the customer shouldn't exceed 4."
   ]
  },
  {
   "cell_type": "code",
   "execution_count": null,
   "id": "fdc69faf",
   "metadata": {},
   "outputs": [],
   "source": []
  }
 ],
 "metadata": {
  "kernelspec": {
   "display_name": "Python 3 (ipykernel)",
   "language": "python",
   "name": "python3"
  },
  "language_info": {
   "codemirror_mode": {
    "name": "ipython",
    "version": 3
   },
   "file_extension": ".py",
   "mimetype": "text/x-python",
   "name": "python",
   "nbconvert_exporter": "python",
   "pygments_lexer": "ipython3",
   "version": "3.9.12"
  }
 },
 "nbformat": 4,
 "nbformat_minor": 5
}
